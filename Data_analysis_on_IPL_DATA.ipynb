{
  "cells": [
    {
      "cell_type": "markdown",
      "source": [
        "#Analysis of IPL dataset between the year 2009-2013"
      ],
      "metadata": {
        "id": "kG-WuJj1VeAv"
      }
    },
    {
      "cell_type": "code",
      "source": [
        "import pandas as pd\n",
        "from matplotlib import pyplot as plt\n",
        "import seaborn as sns"
      ],
      "metadata": {
        "id": "z-yIAH1ZJQnJ"
      },
      "execution_count": 5,
      "outputs": []
    },
    {
      "cell_type": "code",
      "source": [
        "ipl=pd.read_csv('/content/matches (1).csv')\n"
      ],
      "metadata": {
        "id": "wIICaspYJbzI"
      },
      "execution_count": 6,
      "outputs": []
    },
    {
      "cell_type": "code",
      "source": [
        "ipl"
      ],
      "metadata": {
        "colab": {
          "base_uri": "https://localhost:8080/",
          "height": 869
        },
        "id": "LeYs6Z3KJh89",
        "outputId": "020aac4e-032c-4395-ddb4-2e09bd1f6867"
      },
      "execution_count": 27,
      "outputs": [
        {
          "output_type": "execute_result",
          "data": {
            "text/plain": [
              "        id  season           city        date                        team1  \\\n",
              "0        1    2017      Hyderabad  2017-04-05          Sunrisers Hyderabad   \n",
              "1        2    2017           Pune  2017-04-06               Mumbai Indians   \n",
              "2        3    2017         Rajkot  2017-04-07                Gujarat Lions   \n",
              "3        4    2017         Indore  2017-04-08       Rising Pune Supergiant   \n",
              "4        5    2017      Bangalore  2017-04-08  Royal Challengers Bangalore   \n",
              "..     ...     ...            ...         ...                          ...   \n",
              "751  11347    2019         Mumbai    05/05/19        Kolkata Knight Riders   \n",
              "752  11412    2019        Chennai    07/05/19          Chennai Super Kings   \n",
              "753  11413    2019  Visakhapatnam    08/05/19          Sunrisers Hyderabad   \n",
              "754  11414    2019  Visakhapatnam    10/05/19               Delhi Capitals   \n",
              "755  11415    2019      Hyderabad    12/05/19               Mumbai Indians   \n",
              "\n",
              "                           team2                  toss_winner toss_decision  \\\n",
              "0    Royal Challengers Bangalore  Royal Challengers Bangalore         field   \n",
              "1         Rising Pune Supergiant       Rising Pune Supergiant         field   \n",
              "2          Kolkata Knight Riders        Kolkata Knight Riders         field   \n",
              "3                Kings XI Punjab              Kings XI Punjab         field   \n",
              "4               Delhi Daredevils  Royal Challengers Bangalore           bat   \n",
              "..                           ...                          ...           ...   \n",
              "751               Mumbai Indians               Mumbai Indians         field   \n",
              "752               Mumbai Indians          Chennai Super Kings           bat   \n",
              "753               Delhi Capitals               Delhi Capitals         field   \n",
              "754          Chennai Super Kings          Chennai Super Kings         field   \n",
              "755          Chennai Super Kings               Mumbai Indians           bat   \n",
              "\n",
              "     result  dl_applied                       winner  win_by_runs  \\\n",
              "0    normal           0          Sunrisers Hyderabad           35   \n",
              "1    normal           0       Rising Pune Supergiant            0   \n",
              "2    normal           0        Kolkata Knight Riders            0   \n",
              "3    normal           0              Kings XI Punjab            0   \n",
              "4    normal           0  Royal Challengers Bangalore           15   \n",
              "..      ...         ...                          ...          ...   \n",
              "751  normal           0               Mumbai Indians            0   \n",
              "752  normal           0               Mumbai Indians            0   \n",
              "753  normal           0               Delhi Capitals            0   \n",
              "754  normal           0          Chennai Super Kings            0   \n",
              "755  normal           0               Mumbai Indians            1   \n",
              "\n",
              "     win_by_wickets player_of_match  \\\n",
              "0                 0    Yuvraj Singh   \n",
              "1                 7       SPD Smith   \n",
              "2                10         CA Lynn   \n",
              "3                 6      GJ Maxwell   \n",
              "4                 0       KM Jadhav   \n",
              "..              ...             ...   \n",
              "751               9       HH Pandya   \n",
              "752               6        AS Yadav   \n",
              "753               2         RR Pant   \n",
              "754               6    F du Plessis   \n",
              "755               0       JJ Bumrah   \n",
              "\n",
              "                                         venue         umpire1         umpire2  \n",
              "0    Rajiv Gandhi International Stadium, Uppal     AY Dandekar        NJ Llong  \n",
              "1      Maharashtra Cricket Association Stadium  A Nand Kishore          S Ravi  \n",
              "2       Saurashtra Cricket Association Stadium     Nitin Menon       CK Nandan  \n",
              "3                       Holkar Cricket Stadium    AK Chaudhary   C Shamshuddin  \n",
              "4                        M Chinnaswamy Stadium             NaN             NaN  \n",
              "..                                         ...             ...             ...  \n",
              "751                           Wankhede Stadium   Nanda Kishore        O Nandan  \n",
              "752                  M. A. Chidambaram Stadium     Nigel Llong     Nitin Menon  \n",
              "753                           ACA-VDCA Stadium             NaN             NaN  \n",
              "754                           ACA-VDCA Stadium   Sundaram Ravi  Bruce Oxenford  \n",
              "755         Rajiv Gandhi Intl. Cricket Stadium     Nitin Menon       Ian Gould  \n",
              "\n",
              "[756 rows x 17 columns]"
            ],
            "text/html": [
              "\n",
              "  <div id=\"df-b751e6a4-2048-4ac9-b2a2-bfb2a4bf33af\">\n",
              "    <div class=\"colab-df-container\">\n",
              "      <div>\n",
              "<style scoped>\n",
              "    .dataframe tbody tr th:only-of-type {\n",
              "        vertical-align: middle;\n",
              "    }\n",
              "\n",
              "    .dataframe tbody tr th {\n",
              "        vertical-align: top;\n",
              "    }\n",
              "\n",
              "    .dataframe thead th {\n",
              "        text-align: right;\n",
              "    }\n",
              "</style>\n",
              "<table border=\"1\" class=\"dataframe\">\n",
              "  <thead>\n",
              "    <tr style=\"text-align: right;\">\n",
              "      <th></th>\n",
              "      <th>id</th>\n",
              "      <th>season</th>\n",
              "      <th>city</th>\n",
              "      <th>date</th>\n",
              "      <th>team1</th>\n",
              "      <th>team2</th>\n",
              "      <th>toss_winner</th>\n",
              "      <th>toss_decision</th>\n",
              "      <th>result</th>\n",
              "      <th>dl_applied</th>\n",
              "      <th>winner</th>\n",
              "      <th>win_by_runs</th>\n",
              "      <th>win_by_wickets</th>\n",
              "      <th>player_of_match</th>\n",
              "      <th>venue</th>\n",
              "      <th>umpire1</th>\n",
              "      <th>umpire2</th>\n",
              "    </tr>\n",
              "  </thead>\n",
              "  <tbody>\n",
              "    <tr>\n",
              "      <th>0</th>\n",
              "      <td>1</td>\n",
              "      <td>2017</td>\n",
              "      <td>Hyderabad</td>\n",
              "      <td>2017-04-05</td>\n",
              "      <td>Sunrisers Hyderabad</td>\n",
              "      <td>Royal Challengers Bangalore</td>\n",
              "      <td>Royal Challengers Bangalore</td>\n",
              "      <td>field</td>\n",
              "      <td>normal</td>\n",
              "      <td>0</td>\n",
              "      <td>Sunrisers Hyderabad</td>\n",
              "      <td>35</td>\n",
              "      <td>0</td>\n",
              "      <td>Yuvraj Singh</td>\n",
              "      <td>Rajiv Gandhi International Stadium, Uppal</td>\n",
              "      <td>AY Dandekar</td>\n",
              "      <td>NJ Llong</td>\n",
              "    </tr>\n",
              "    <tr>\n",
              "      <th>1</th>\n",
              "      <td>2</td>\n",
              "      <td>2017</td>\n",
              "      <td>Pune</td>\n",
              "      <td>2017-04-06</td>\n",
              "      <td>Mumbai Indians</td>\n",
              "      <td>Rising Pune Supergiant</td>\n",
              "      <td>Rising Pune Supergiant</td>\n",
              "      <td>field</td>\n",
              "      <td>normal</td>\n",
              "      <td>0</td>\n",
              "      <td>Rising Pune Supergiant</td>\n",
              "      <td>0</td>\n",
              "      <td>7</td>\n",
              "      <td>SPD Smith</td>\n",
              "      <td>Maharashtra Cricket Association Stadium</td>\n",
              "      <td>A Nand Kishore</td>\n",
              "      <td>S Ravi</td>\n",
              "    </tr>\n",
              "    <tr>\n",
              "      <th>2</th>\n",
              "      <td>3</td>\n",
              "      <td>2017</td>\n",
              "      <td>Rajkot</td>\n",
              "      <td>2017-04-07</td>\n",
              "      <td>Gujarat Lions</td>\n",
              "      <td>Kolkata Knight Riders</td>\n",
              "      <td>Kolkata Knight Riders</td>\n",
              "      <td>field</td>\n",
              "      <td>normal</td>\n",
              "      <td>0</td>\n",
              "      <td>Kolkata Knight Riders</td>\n",
              "      <td>0</td>\n",
              "      <td>10</td>\n",
              "      <td>CA Lynn</td>\n",
              "      <td>Saurashtra Cricket Association Stadium</td>\n",
              "      <td>Nitin Menon</td>\n",
              "      <td>CK Nandan</td>\n",
              "    </tr>\n",
              "    <tr>\n",
              "      <th>3</th>\n",
              "      <td>4</td>\n",
              "      <td>2017</td>\n",
              "      <td>Indore</td>\n",
              "      <td>2017-04-08</td>\n",
              "      <td>Rising Pune Supergiant</td>\n",
              "      <td>Kings XI Punjab</td>\n",
              "      <td>Kings XI Punjab</td>\n",
              "      <td>field</td>\n",
              "      <td>normal</td>\n",
              "      <td>0</td>\n",
              "      <td>Kings XI Punjab</td>\n",
              "      <td>0</td>\n",
              "      <td>6</td>\n",
              "      <td>GJ Maxwell</td>\n",
              "      <td>Holkar Cricket Stadium</td>\n",
              "      <td>AK Chaudhary</td>\n",
              "      <td>C Shamshuddin</td>\n",
              "    </tr>\n",
              "    <tr>\n",
              "      <th>4</th>\n",
              "      <td>5</td>\n",
              "      <td>2017</td>\n",
              "      <td>Bangalore</td>\n",
              "      <td>2017-04-08</td>\n",
              "      <td>Royal Challengers Bangalore</td>\n",
              "      <td>Delhi Daredevils</td>\n",
              "      <td>Royal Challengers Bangalore</td>\n",
              "      <td>bat</td>\n",
              "      <td>normal</td>\n",
              "      <td>0</td>\n",
              "      <td>Royal Challengers Bangalore</td>\n",
              "      <td>15</td>\n",
              "      <td>0</td>\n",
              "      <td>KM Jadhav</td>\n",
              "      <td>M Chinnaswamy Stadium</td>\n",
              "      <td>NaN</td>\n",
              "      <td>NaN</td>\n",
              "    </tr>\n",
              "    <tr>\n",
              "      <th>...</th>\n",
              "      <td>...</td>\n",
              "      <td>...</td>\n",
              "      <td>...</td>\n",
              "      <td>...</td>\n",
              "      <td>...</td>\n",
              "      <td>...</td>\n",
              "      <td>...</td>\n",
              "      <td>...</td>\n",
              "      <td>...</td>\n",
              "      <td>...</td>\n",
              "      <td>...</td>\n",
              "      <td>...</td>\n",
              "      <td>...</td>\n",
              "      <td>...</td>\n",
              "      <td>...</td>\n",
              "      <td>...</td>\n",
              "      <td>...</td>\n",
              "    </tr>\n",
              "    <tr>\n",
              "      <th>751</th>\n",
              "      <td>11347</td>\n",
              "      <td>2019</td>\n",
              "      <td>Mumbai</td>\n",
              "      <td>05/05/19</td>\n",
              "      <td>Kolkata Knight Riders</td>\n",
              "      <td>Mumbai Indians</td>\n",
              "      <td>Mumbai Indians</td>\n",
              "      <td>field</td>\n",
              "      <td>normal</td>\n",
              "      <td>0</td>\n",
              "      <td>Mumbai Indians</td>\n",
              "      <td>0</td>\n",
              "      <td>9</td>\n",
              "      <td>HH Pandya</td>\n",
              "      <td>Wankhede Stadium</td>\n",
              "      <td>Nanda Kishore</td>\n",
              "      <td>O Nandan</td>\n",
              "    </tr>\n",
              "    <tr>\n",
              "      <th>752</th>\n",
              "      <td>11412</td>\n",
              "      <td>2019</td>\n",
              "      <td>Chennai</td>\n",
              "      <td>07/05/19</td>\n",
              "      <td>Chennai Super Kings</td>\n",
              "      <td>Mumbai Indians</td>\n",
              "      <td>Chennai Super Kings</td>\n",
              "      <td>bat</td>\n",
              "      <td>normal</td>\n",
              "      <td>0</td>\n",
              "      <td>Mumbai Indians</td>\n",
              "      <td>0</td>\n",
              "      <td>6</td>\n",
              "      <td>AS Yadav</td>\n",
              "      <td>M. A. Chidambaram Stadium</td>\n",
              "      <td>Nigel Llong</td>\n",
              "      <td>Nitin Menon</td>\n",
              "    </tr>\n",
              "    <tr>\n",
              "      <th>753</th>\n",
              "      <td>11413</td>\n",
              "      <td>2019</td>\n",
              "      <td>Visakhapatnam</td>\n",
              "      <td>08/05/19</td>\n",
              "      <td>Sunrisers Hyderabad</td>\n",
              "      <td>Delhi Capitals</td>\n",
              "      <td>Delhi Capitals</td>\n",
              "      <td>field</td>\n",
              "      <td>normal</td>\n",
              "      <td>0</td>\n",
              "      <td>Delhi Capitals</td>\n",
              "      <td>0</td>\n",
              "      <td>2</td>\n",
              "      <td>RR Pant</td>\n",
              "      <td>ACA-VDCA Stadium</td>\n",
              "      <td>NaN</td>\n",
              "      <td>NaN</td>\n",
              "    </tr>\n",
              "    <tr>\n",
              "      <th>754</th>\n",
              "      <td>11414</td>\n",
              "      <td>2019</td>\n",
              "      <td>Visakhapatnam</td>\n",
              "      <td>10/05/19</td>\n",
              "      <td>Delhi Capitals</td>\n",
              "      <td>Chennai Super Kings</td>\n",
              "      <td>Chennai Super Kings</td>\n",
              "      <td>field</td>\n",
              "      <td>normal</td>\n",
              "      <td>0</td>\n",
              "      <td>Chennai Super Kings</td>\n",
              "      <td>0</td>\n",
              "      <td>6</td>\n",
              "      <td>F du Plessis</td>\n",
              "      <td>ACA-VDCA Stadium</td>\n",
              "      <td>Sundaram Ravi</td>\n",
              "      <td>Bruce Oxenford</td>\n",
              "    </tr>\n",
              "    <tr>\n",
              "      <th>755</th>\n",
              "      <td>11415</td>\n",
              "      <td>2019</td>\n",
              "      <td>Hyderabad</td>\n",
              "      <td>12/05/19</td>\n",
              "      <td>Mumbai Indians</td>\n",
              "      <td>Chennai Super Kings</td>\n",
              "      <td>Mumbai Indians</td>\n",
              "      <td>bat</td>\n",
              "      <td>normal</td>\n",
              "      <td>0</td>\n",
              "      <td>Mumbai Indians</td>\n",
              "      <td>1</td>\n",
              "      <td>0</td>\n",
              "      <td>JJ Bumrah</td>\n",
              "      <td>Rajiv Gandhi Intl. Cricket Stadium</td>\n",
              "      <td>Nitin Menon</td>\n",
              "      <td>Ian Gould</td>\n",
              "    </tr>\n",
              "  </tbody>\n",
              "</table>\n",
              "<p>756 rows × 17 columns</p>\n",
              "</div>\n",
              "      <button class=\"colab-df-convert\" onclick=\"convertToInteractive('df-b751e6a4-2048-4ac9-b2a2-bfb2a4bf33af')\"\n",
              "              title=\"Convert this dataframe to an interactive table.\"\n",
              "              style=\"display:none;\">\n",
              "        \n",
              "  <svg xmlns=\"http://www.w3.org/2000/svg\" height=\"24px\"viewBox=\"0 0 24 24\"\n",
              "       width=\"24px\">\n",
              "    <path d=\"M0 0h24v24H0V0z\" fill=\"none\"/>\n",
              "    <path d=\"M18.56 5.44l.94 2.06.94-2.06 2.06-.94-2.06-.94-.94-2.06-.94 2.06-2.06.94zm-11 1L8.5 8.5l.94-2.06 2.06-.94-2.06-.94L8.5 2.5l-.94 2.06-2.06.94zm10 10l.94 2.06.94-2.06 2.06-.94-2.06-.94-.94-2.06-.94 2.06-2.06.94z\"/><path d=\"M17.41 7.96l-1.37-1.37c-.4-.4-.92-.59-1.43-.59-.52 0-1.04.2-1.43.59L10.3 9.45l-7.72 7.72c-.78.78-.78 2.05 0 2.83L4 21.41c.39.39.9.59 1.41.59.51 0 1.02-.2 1.41-.59l7.78-7.78 2.81-2.81c.8-.78.8-2.07 0-2.86zM5.41 20L4 18.59l7.72-7.72 1.47 1.35L5.41 20z\"/>\n",
              "  </svg>\n",
              "      </button>\n",
              "      \n",
              "  <style>\n",
              "    .colab-df-container {\n",
              "      display:flex;\n",
              "      flex-wrap:wrap;\n",
              "      gap: 12px;\n",
              "    }\n",
              "\n",
              "    .colab-df-convert {\n",
              "      background-color: #E8F0FE;\n",
              "      border: none;\n",
              "      border-radius: 50%;\n",
              "      cursor: pointer;\n",
              "      display: none;\n",
              "      fill: #1967D2;\n",
              "      height: 32px;\n",
              "      padding: 0 0 0 0;\n",
              "      width: 32px;\n",
              "    }\n",
              "\n",
              "    .colab-df-convert:hover {\n",
              "      background-color: #E2EBFA;\n",
              "      box-shadow: 0px 1px 2px rgba(60, 64, 67, 0.3), 0px 1px 3px 1px rgba(60, 64, 67, 0.15);\n",
              "      fill: #174EA6;\n",
              "    }\n",
              "\n",
              "    [theme=dark] .colab-df-convert {\n",
              "      background-color: #3B4455;\n",
              "      fill: #D2E3FC;\n",
              "    }\n",
              "\n",
              "    [theme=dark] .colab-df-convert:hover {\n",
              "      background-color: #434B5C;\n",
              "      box-shadow: 0px 1px 3px 1px rgba(0, 0, 0, 0.15);\n",
              "      filter: drop-shadow(0px 1px 2px rgba(0, 0, 0, 0.3));\n",
              "      fill: #FFFFFF;\n",
              "    }\n",
              "  </style>\n",
              "\n",
              "      <script>\n",
              "        const buttonEl =\n",
              "          document.querySelector('#df-b751e6a4-2048-4ac9-b2a2-bfb2a4bf33af button.colab-df-convert');\n",
              "        buttonEl.style.display =\n",
              "          google.colab.kernel.accessAllowed ? 'block' : 'none';\n",
              "\n",
              "        async function convertToInteractive(key) {\n",
              "          const element = document.querySelector('#df-b751e6a4-2048-4ac9-b2a2-bfb2a4bf33af');\n",
              "          const dataTable =\n",
              "            await google.colab.kernel.invokeFunction('convertToInteractive',\n",
              "                                                     [key], {});\n",
              "          if (!dataTable) return;\n",
              "\n",
              "          const docLinkHtml = 'Like what you see? Visit the ' +\n",
              "            '<a target=\"_blank\" href=https://colab.research.google.com/notebooks/data_table.ipynb>data table notebook</a>'\n",
              "            + ' to learn more about interactive tables.';\n",
              "          element.innerHTML = '';\n",
              "          dataTable['output_type'] = 'display_data';\n",
              "          await google.colab.output.renderOutput(dataTable, element);\n",
              "          const docLink = document.createElement('div');\n",
              "          docLink.innerHTML = docLinkHtml;\n",
              "          element.appendChild(docLink);\n",
              "        }\n",
              "      </script>\n",
              "    </div>\n",
              "  </div>\n",
              "  "
            ]
          },
          "metadata": {},
          "execution_count": 27
        }
      ]
    },
    {
      "cell_type": "code",
      "source": [
        "ipl.describe()"
      ],
      "metadata": {
        "colab": {
          "base_uri": "https://localhost:8080/",
          "height": 300
        },
        "id": "KrYXue9XWXtb",
        "outputId": "c23bf8db-7701-4cd9-98a0-092008582e85"
      },
      "execution_count": 28,
      "outputs": [
        {
          "output_type": "execute_result",
          "data": {
            "text/plain": [
              "                 id       season  dl_applied  win_by_runs  win_by_wickets\n",
              "count    756.000000   756.000000  756.000000   756.000000      756.000000\n",
              "mean    1792.178571  2013.444444    0.025132    13.283069        3.350529\n",
              "std     3464.478148     3.366895    0.156630    23.471144        3.387963\n",
              "min        1.000000  2008.000000    0.000000     0.000000        0.000000\n",
              "25%      189.750000  2011.000000    0.000000     0.000000        0.000000\n",
              "50%      378.500000  2013.000000    0.000000     0.000000        4.000000\n",
              "75%      567.250000  2016.000000    0.000000    19.000000        6.000000\n",
              "max    11415.000000  2019.000000    1.000000   146.000000       10.000000"
            ],
            "text/html": [
              "\n",
              "  <div id=\"df-31e17a13-91c0-4f01-9fd9-08a869487707\">\n",
              "    <div class=\"colab-df-container\">\n",
              "      <div>\n",
              "<style scoped>\n",
              "    .dataframe tbody tr th:only-of-type {\n",
              "        vertical-align: middle;\n",
              "    }\n",
              "\n",
              "    .dataframe tbody tr th {\n",
              "        vertical-align: top;\n",
              "    }\n",
              "\n",
              "    .dataframe thead th {\n",
              "        text-align: right;\n",
              "    }\n",
              "</style>\n",
              "<table border=\"1\" class=\"dataframe\">\n",
              "  <thead>\n",
              "    <tr style=\"text-align: right;\">\n",
              "      <th></th>\n",
              "      <th>id</th>\n",
              "      <th>season</th>\n",
              "      <th>dl_applied</th>\n",
              "      <th>win_by_runs</th>\n",
              "      <th>win_by_wickets</th>\n",
              "    </tr>\n",
              "  </thead>\n",
              "  <tbody>\n",
              "    <tr>\n",
              "      <th>count</th>\n",
              "      <td>756.000000</td>\n",
              "      <td>756.000000</td>\n",
              "      <td>756.000000</td>\n",
              "      <td>756.000000</td>\n",
              "      <td>756.000000</td>\n",
              "    </tr>\n",
              "    <tr>\n",
              "      <th>mean</th>\n",
              "      <td>1792.178571</td>\n",
              "      <td>2013.444444</td>\n",
              "      <td>0.025132</td>\n",
              "      <td>13.283069</td>\n",
              "      <td>3.350529</td>\n",
              "    </tr>\n",
              "    <tr>\n",
              "      <th>std</th>\n",
              "      <td>3464.478148</td>\n",
              "      <td>3.366895</td>\n",
              "      <td>0.156630</td>\n",
              "      <td>23.471144</td>\n",
              "      <td>3.387963</td>\n",
              "    </tr>\n",
              "    <tr>\n",
              "      <th>min</th>\n",
              "      <td>1.000000</td>\n",
              "      <td>2008.000000</td>\n",
              "      <td>0.000000</td>\n",
              "      <td>0.000000</td>\n",
              "      <td>0.000000</td>\n",
              "    </tr>\n",
              "    <tr>\n",
              "      <th>25%</th>\n",
              "      <td>189.750000</td>\n",
              "      <td>2011.000000</td>\n",
              "      <td>0.000000</td>\n",
              "      <td>0.000000</td>\n",
              "      <td>0.000000</td>\n",
              "    </tr>\n",
              "    <tr>\n",
              "      <th>50%</th>\n",
              "      <td>378.500000</td>\n",
              "      <td>2013.000000</td>\n",
              "      <td>0.000000</td>\n",
              "      <td>0.000000</td>\n",
              "      <td>4.000000</td>\n",
              "    </tr>\n",
              "    <tr>\n",
              "      <th>75%</th>\n",
              "      <td>567.250000</td>\n",
              "      <td>2016.000000</td>\n",
              "      <td>0.000000</td>\n",
              "      <td>19.000000</td>\n",
              "      <td>6.000000</td>\n",
              "    </tr>\n",
              "    <tr>\n",
              "      <th>max</th>\n",
              "      <td>11415.000000</td>\n",
              "      <td>2019.000000</td>\n",
              "      <td>1.000000</td>\n",
              "      <td>146.000000</td>\n",
              "      <td>10.000000</td>\n",
              "    </tr>\n",
              "  </tbody>\n",
              "</table>\n",
              "</div>\n",
              "      <button class=\"colab-df-convert\" onclick=\"convertToInteractive('df-31e17a13-91c0-4f01-9fd9-08a869487707')\"\n",
              "              title=\"Convert this dataframe to an interactive table.\"\n",
              "              style=\"display:none;\">\n",
              "        \n",
              "  <svg xmlns=\"http://www.w3.org/2000/svg\" height=\"24px\"viewBox=\"0 0 24 24\"\n",
              "       width=\"24px\">\n",
              "    <path d=\"M0 0h24v24H0V0z\" fill=\"none\"/>\n",
              "    <path d=\"M18.56 5.44l.94 2.06.94-2.06 2.06-.94-2.06-.94-.94-2.06-.94 2.06-2.06.94zm-11 1L8.5 8.5l.94-2.06 2.06-.94-2.06-.94L8.5 2.5l-.94 2.06-2.06.94zm10 10l.94 2.06.94-2.06 2.06-.94-2.06-.94-.94-2.06-.94 2.06-2.06.94z\"/><path d=\"M17.41 7.96l-1.37-1.37c-.4-.4-.92-.59-1.43-.59-.52 0-1.04.2-1.43.59L10.3 9.45l-7.72 7.72c-.78.78-.78 2.05 0 2.83L4 21.41c.39.39.9.59 1.41.59.51 0 1.02-.2 1.41-.59l7.78-7.78 2.81-2.81c.8-.78.8-2.07 0-2.86zM5.41 20L4 18.59l7.72-7.72 1.47 1.35L5.41 20z\"/>\n",
              "  </svg>\n",
              "      </button>\n",
              "      \n",
              "  <style>\n",
              "    .colab-df-container {\n",
              "      display:flex;\n",
              "      flex-wrap:wrap;\n",
              "      gap: 12px;\n",
              "    }\n",
              "\n",
              "    .colab-df-convert {\n",
              "      background-color: #E8F0FE;\n",
              "      border: none;\n",
              "      border-radius: 50%;\n",
              "      cursor: pointer;\n",
              "      display: none;\n",
              "      fill: #1967D2;\n",
              "      height: 32px;\n",
              "      padding: 0 0 0 0;\n",
              "      width: 32px;\n",
              "    }\n",
              "\n",
              "    .colab-df-convert:hover {\n",
              "      background-color: #E2EBFA;\n",
              "      box-shadow: 0px 1px 2px rgba(60, 64, 67, 0.3), 0px 1px 3px 1px rgba(60, 64, 67, 0.15);\n",
              "      fill: #174EA6;\n",
              "    }\n",
              "\n",
              "    [theme=dark] .colab-df-convert {\n",
              "      background-color: #3B4455;\n",
              "      fill: #D2E3FC;\n",
              "    }\n",
              "\n",
              "    [theme=dark] .colab-df-convert:hover {\n",
              "      background-color: #434B5C;\n",
              "      box-shadow: 0px 1px 3px 1px rgba(0, 0, 0, 0.15);\n",
              "      filter: drop-shadow(0px 1px 2px rgba(0, 0, 0, 0.3));\n",
              "      fill: #FFFFFF;\n",
              "    }\n",
              "  </style>\n",
              "\n",
              "      <script>\n",
              "        const buttonEl =\n",
              "          document.querySelector('#df-31e17a13-91c0-4f01-9fd9-08a869487707 button.colab-df-convert');\n",
              "        buttonEl.style.display =\n",
              "          google.colab.kernel.accessAllowed ? 'block' : 'none';\n",
              "\n",
              "        async function convertToInteractive(key) {\n",
              "          const element = document.querySelector('#df-31e17a13-91c0-4f01-9fd9-08a869487707');\n",
              "          const dataTable =\n",
              "            await google.colab.kernel.invokeFunction('convertToInteractive',\n",
              "                                                     [key], {});\n",
              "          if (!dataTable) return;\n",
              "\n",
              "          const docLinkHtml = 'Like what you see? Visit the ' +\n",
              "            '<a target=\"_blank\" href=https://colab.research.google.com/notebooks/data_table.ipynb>data table notebook</a>'\n",
              "            + ' to learn more about interactive tables.';\n",
              "          element.innerHTML = '';\n",
              "          dataTable['output_type'] = 'display_data';\n",
              "          await google.colab.output.renderOutput(dataTable, element);\n",
              "          const docLink = document.createElement('div');\n",
              "          docLink.innerHTML = docLinkHtml;\n",
              "          element.appendChild(docLink);\n",
              "        }\n",
              "      </script>\n",
              "    </div>\n",
              "  </div>\n",
              "  "
            ]
          },
          "metadata": {},
          "execution_count": 28
        }
      ]
    },
    {
      "cell_type": "markdown",
      "source": [
        "The maximum win by runs are 146 and the maximum win by wickets are 10 and the average win by runs are 13 and win by wickets are 3."
      ],
      "metadata": {
        "id": "7OQ1ERYn9Udo"
      }
    },
    {
      "cell_type": "code",
      "source": [
        "ipl.season.value_counts()"
      ],
      "metadata": {
        "colab": {
          "base_uri": "https://localhost:8080/"
        },
        "id": "B0M2fIApVtZn",
        "outputId": "76752aa5-4a56-4e45-bbc2-a74470125243"
      },
      "execution_count": 29,
      "outputs": [
        {
          "output_type": "execute_result",
          "data": {
            "text/plain": [
              "2013    76\n",
              "2012    74\n",
              "2011    73\n",
              "2010    60\n",
              "2014    60\n",
              "2016    60\n",
              "2018    60\n",
              "2019    60\n",
              "2017    59\n",
              "2015    59\n",
              "2008    58\n",
              "2009    57\n",
              "Name: season, dtype: int64"
            ]
          },
          "metadata": {},
          "execution_count": 29
        }
      ]
    },
    {
      "cell_type": "markdown",
      "source": [
        "#Checking for NULL VALUES"
      ],
      "metadata": {
        "id": "BoYEndlFWiE5"
      }
    },
    {
      "cell_type": "code",
      "source": [
        "ipl.isna().sum()"
      ],
      "metadata": {
        "colab": {
          "base_uri": "https://localhost:8080/"
        },
        "id": "X2syZexvWnnU",
        "outputId": "33a31811-24d6-4c95-e8e5-dda38451de0a"
      },
      "execution_count": 30,
      "outputs": [
        {
          "output_type": "execute_result",
          "data": {
            "text/plain": [
              "id                 0\n",
              "season             0\n",
              "city               7\n",
              "date               0\n",
              "team1              0\n",
              "team2              0\n",
              "toss_winner        0\n",
              "toss_decision      0\n",
              "result             0\n",
              "dl_applied         0\n",
              "winner             4\n",
              "win_by_runs        0\n",
              "win_by_wickets     0\n",
              "player_of_match    4\n",
              "venue              0\n",
              "umpire1            2\n",
              "umpire2            2\n",
              "dtype: int64"
            ]
          },
          "metadata": {},
          "execution_count": 30
        }
      ]
    },
    {
      "cell_type": "markdown",
      "source": [
        "##637 umpire3 data is not present.4 winner and player of match datas are not present\n",
        "\n",
        "> Since umpire data and city is not critical, no need for droping those values.\n",
        "But, winner and player of match values are missing, these values can be dropped.\n",
        "\n",
        "\n",
        "\n",
        "\n",
        "\n",
        "\n"
      ],
      "metadata": {
        "id": "MVwzwOuuW7w0"
      }
    },
    {
      "cell_type": "code",
      "source": [
        "ipl"
      ],
      "metadata": {
        "colab": {
          "base_uri": "https://localhost:8080/",
          "height": 869
        },
        "id": "CkfoPOjiaw95",
        "outputId": "14293bc3-097c-4815-b292-6e53df0df620"
      },
      "execution_count": 10,
      "outputs": [
        {
          "output_type": "execute_result",
          "data": {
            "text/plain": [
              "        id  season           city        date                        team1  \\\n",
              "0        1    2017      Hyderabad  2017-04-05          Sunrisers Hyderabad   \n",
              "1        2    2017           Pune  2017-04-06               Mumbai Indians   \n",
              "2        3    2017         Rajkot  2017-04-07                Gujarat Lions   \n",
              "3        4    2017         Indore  2017-04-08       Rising Pune Supergiant   \n",
              "4        5    2017      Bangalore  2017-04-08  Royal Challengers Bangalore   \n",
              "..     ...     ...            ...         ...                          ...   \n",
              "751  11347    2019         Mumbai    05/05/19        Kolkata Knight Riders   \n",
              "752  11412    2019        Chennai    07/05/19          Chennai Super Kings   \n",
              "753  11413    2019  Visakhapatnam    08/05/19          Sunrisers Hyderabad   \n",
              "754  11414    2019  Visakhapatnam    10/05/19               Delhi Capitals   \n",
              "755  11415    2019      Hyderabad    12/05/19               Mumbai Indians   \n",
              "\n",
              "                           team2                  toss_winner toss_decision  \\\n",
              "0    Royal Challengers Bangalore  Royal Challengers Bangalore         field   \n",
              "1         Rising Pune Supergiant       Rising Pune Supergiant         field   \n",
              "2          Kolkata Knight Riders        Kolkata Knight Riders         field   \n",
              "3                Kings XI Punjab              Kings XI Punjab         field   \n",
              "4               Delhi Daredevils  Royal Challengers Bangalore           bat   \n",
              "..                           ...                          ...           ...   \n",
              "751               Mumbai Indians               Mumbai Indians         field   \n",
              "752               Mumbai Indians          Chennai Super Kings           bat   \n",
              "753               Delhi Capitals               Delhi Capitals         field   \n",
              "754          Chennai Super Kings          Chennai Super Kings         field   \n",
              "755          Chennai Super Kings               Mumbai Indians           bat   \n",
              "\n",
              "     result  dl_applied                       winner  win_by_runs  \\\n",
              "0    normal           0          Sunrisers Hyderabad           35   \n",
              "1    normal           0       Rising Pune Supergiant            0   \n",
              "2    normal           0        Kolkata Knight Riders            0   \n",
              "3    normal           0              Kings XI Punjab            0   \n",
              "4    normal           0  Royal Challengers Bangalore           15   \n",
              "..      ...         ...                          ...          ...   \n",
              "751  normal           0               Mumbai Indians            0   \n",
              "752  normal           0               Mumbai Indians            0   \n",
              "753  normal           0               Delhi Capitals            0   \n",
              "754  normal           0          Chennai Super Kings            0   \n",
              "755  normal           0               Mumbai Indians            1   \n",
              "\n",
              "     win_by_wickets player_of_match  \\\n",
              "0                 0    Yuvraj Singh   \n",
              "1                 7       SPD Smith   \n",
              "2                10         CA Lynn   \n",
              "3                 6      GJ Maxwell   \n",
              "4                 0       KM Jadhav   \n",
              "..              ...             ...   \n",
              "751               9       HH Pandya   \n",
              "752               6        AS Yadav   \n",
              "753               2         RR Pant   \n",
              "754               6    F du Plessis   \n",
              "755               0       JJ Bumrah   \n",
              "\n",
              "                                         venue         umpire1         umpire2  \n",
              "0    Rajiv Gandhi International Stadium, Uppal     AY Dandekar        NJ Llong  \n",
              "1      Maharashtra Cricket Association Stadium  A Nand Kishore          S Ravi  \n",
              "2       Saurashtra Cricket Association Stadium     Nitin Menon       CK Nandan  \n",
              "3                       Holkar Cricket Stadium    AK Chaudhary   C Shamshuddin  \n",
              "4                        M Chinnaswamy Stadium             NaN             NaN  \n",
              "..                                         ...             ...             ...  \n",
              "751                           Wankhede Stadium   Nanda Kishore        O Nandan  \n",
              "752                  M. A. Chidambaram Stadium     Nigel Llong     Nitin Menon  \n",
              "753                           ACA-VDCA Stadium             NaN             NaN  \n",
              "754                           ACA-VDCA Stadium   Sundaram Ravi  Bruce Oxenford  \n",
              "755         Rajiv Gandhi Intl. Cricket Stadium     Nitin Menon       Ian Gould  \n",
              "\n",
              "[756 rows x 17 columns]"
            ],
            "text/html": [
              "\n",
              "  <div id=\"df-d17734ab-884a-4fcb-b1a2-9467c800faa8\">\n",
              "    <div class=\"colab-df-container\">\n",
              "      <div>\n",
              "<style scoped>\n",
              "    .dataframe tbody tr th:only-of-type {\n",
              "        vertical-align: middle;\n",
              "    }\n",
              "\n",
              "    .dataframe tbody tr th {\n",
              "        vertical-align: top;\n",
              "    }\n",
              "\n",
              "    .dataframe thead th {\n",
              "        text-align: right;\n",
              "    }\n",
              "</style>\n",
              "<table border=\"1\" class=\"dataframe\">\n",
              "  <thead>\n",
              "    <tr style=\"text-align: right;\">\n",
              "      <th></th>\n",
              "      <th>id</th>\n",
              "      <th>season</th>\n",
              "      <th>city</th>\n",
              "      <th>date</th>\n",
              "      <th>team1</th>\n",
              "      <th>team2</th>\n",
              "      <th>toss_winner</th>\n",
              "      <th>toss_decision</th>\n",
              "      <th>result</th>\n",
              "      <th>dl_applied</th>\n",
              "      <th>winner</th>\n",
              "      <th>win_by_runs</th>\n",
              "      <th>win_by_wickets</th>\n",
              "      <th>player_of_match</th>\n",
              "      <th>venue</th>\n",
              "      <th>umpire1</th>\n",
              "      <th>umpire2</th>\n",
              "    </tr>\n",
              "  </thead>\n",
              "  <tbody>\n",
              "    <tr>\n",
              "      <th>0</th>\n",
              "      <td>1</td>\n",
              "      <td>2017</td>\n",
              "      <td>Hyderabad</td>\n",
              "      <td>2017-04-05</td>\n",
              "      <td>Sunrisers Hyderabad</td>\n",
              "      <td>Royal Challengers Bangalore</td>\n",
              "      <td>Royal Challengers Bangalore</td>\n",
              "      <td>field</td>\n",
              "      <td>normal</td>\n",
              "      <td>0</td>\n",
              "      <td>Sunrisers Hyderabad</td>\n",
              "      <td>35</td>\n",
              "      <td>0</td>\n",
              "      <td>Yuvraj Singh</td>\n",
              "      <td>Rajiv Gandhi International Stadium, Uppal</td>\n",
              "      <td>AY Dandekar</td>\n",
              "      <td>NJ Llong</td>\n",
              "    </tr>\n",
              "    <tr>\n",
              "      <th>1</th>\n",
              "      <td>2</td>\n",
              "      <td>2017</td>\n",
              "      <td>Pune</td>\n",
              "      <td>2017-04-06</td>\n",
              "      <td>Mumbai Indians</td>\n",
              "      <td>Rising Pune Supergiant</td>\n",
              "      <td>Rising Pune Supergiant</td>\n",
              "      <td>field</td>\n",
              "      <td>normal</td>\n",
              "      <td>0</td>\n",
              "      <td>Rising Pune Supergiant</td>\n",
              "      <td>0</td>\n",
              "      <td>7</td>\n",
              "      <td>SPD Smith</td>\n",
              "      <td>Maharashtra Cricket Association Stadium</td>\n",
              "      <td>A Nand Kishore</td>\n",
              "      <td>S Ravi</td>\n",
              "    </tr>\n",
              "    <tr>\n",
              "      <th>2</th>\n",
              "      <td>3</td>\n",
              "      <td>2017</td>\n",
              "      <td>Rajkot</td>\n",
              "      <td>2017-04-07</td>\n",
              "      <td>Gujarat Lions</td>\n",
              "      <td>Kolkata Knight Riders</td>\n",
              "      <td>Kolkata Knight Riders</td>\n",
              "      <td>field</td>\n",
              "      <td>normal</td>\n",
              "      <td>0</td>\n",
              "      <td>Kolkata Knight Riders</td>\n",
              "      <td>0</td>\n",
              "      <td>10</td>\n",
              "      <td>CA Lynn</td>\n",
              "      <td>Saurashtra Cricket Association Stadium</td>\n",
              "      <td>Nitin Menon</td>\n",
              "      <td>CK Nandan</td>\n",
              "    </tr>\n",
              "    <tr>\n",
              "      <th>3</th>\n",
              "      <td>4</td>\n",
              "      <td>2017</td>\n",
              "      <td>Indore</td>\n",
              "      <td>2017-04-08</td>\n",
              "      <td>Rising Pune Supergiant</td>\n",
              "      <td>Kings XI Punjab</td>\n",
              "      <td>Kings XI Punjab</td>\n",
              "      <td>field</td>\n",
              "      <td>normal</td>\n",
              "      <td>0</td>\n",
              "      <td>Kings XI Punjab</td>\n",
              "      <td>0</td>\n",
              "      <td>6</td>\n",
              "      <td>GJ Maxwell</td>\n",
              "      <td>Holkar Cricket Stadium</td>\n",
              "      <td>AK Chaudhary</td>\n",
              "      <td>C Shamshuddin</td>\n",
              "    </tr>\n",
              "    <tr>\n",
              "      <th>4</th>\n",
              "      <td>5</td>\n",
              "      <td>2017</td>\n",
              "      <td>Bangalore</td>\n",
              "      <td>2017-04-08</td>\n",
              "      <td>Royal Challengers Bangalore</td>\n",
              "      <td>Delhi Daredevils</td>\n",
              "      <td>Royal Challengers Bangalore</td>\n",
              "      <td>bat</td>\n",
              "      <td>normal</td>\n",
              "      <td>0</td>\n",
              "      <td>Royal Challengers Bangalore</td>\n",
              "      <td>15</td>\n",
              "      <td>0</td>\n",
              "      <td>KM Jadhav</td>\n",
              "      <td>M Chinnaswamy Stadium</td>\n",
              "      <td>NaN</td>\n",
              "      <td>NaN</td>\n",
              "    </tr>\n",
              "    <tr>\n",
              "      <th>...</th>\n",
              "      <td>...</td>\n",
              "      <td>...</td>\n",
              "      <td>...</td>\n",
              "      <td>...</td>\n",
              "      <td>...</td>\n",
              "      <td>...</td>\n",
              "      <td>...</td>\n",
              "      <td>...</td>\n",
              "      <td>...</td>\n",
              "      <td>...</td>\n",
              "      <td>...</td>\n",
              "      <td>...</td>\n",
              "      <td>...</td>\n",
              "      <td>...</td>\n",
              "      <td>...</td>\n",
              "      <td>...</td>\n",
              "      <td>...</td>\n",
              "    </tr>\n",
              "    <tr>\n",
              "      <th>751</th>\n",
              "      <td>11347</td>\n",
              "      <td>2019</td>\n",
              "      <td>Mumbai</td>\n",
              "      <td>05/05/19</td>\n",
              "      <td>Kolkata Knight Riders</td>\n",
              "      <td>Mumbai Indians</td>\n",
              "      <td>Mumbai Indians</td>\n",
              "      <td>field</td>\n",
              "      <td>normal</td>\n",
              "      <td>0</td>\n",
              "      <td>Mumbai Indians</td>\n",
              "      <td>0</td>\n",
              "      <td>9</td>\n",
              "      <td>HH Pandya</td>\n",
              "      <td>Wankhede Stadium</td>\n",
              "      <td>Nanda Kishore</td>\n",
              "      <td>O Nandan</td>\n",
              "    </tr>\n",
              "    <tr>\n",
              "      <th>752</th>\n",
              "      <td>11412</td>\n",
              "      <td>2019</td>\n",
              "      <td>Chennai</td>\n",
              "      <td>07/05/19</td>\n",
              "      <td>Chennai Super Kings</td>\n",
              "      <td>Mumbai Indians</td>\n",
              "      <td>Chennai Super Kings</td>\n",
              "      <td>bat</td>\n",
              "      <td>normal</td>\n",
              "      <td>0</td>\n",
              "      <td>Mumbai Indians</td>\n",
              "      <td>0</td>\n",
              "      <td>6</td>\n",
              "      <td>AS Yadav</td>\n",
              "      <td>M. A. Chidambaram Stadium</td>\n",
              "      <td>Nigel Llong</td>\n",
              "      <td>Nitin Menon</td>\n",
              "    </tr>\n",
              "    <tr>\n",
              "      <th>753</th>\n",
              "      <td>11413</td>\n",
              "      <td>2019</td>\n",
              "      <td>Visakhapatnam</td>\n",
              "      <td>08/05/19</td>\n",
              "      <td>Sunrisers Hyderabad</td>\n",
              "      <td>Delhi Capitals</td>\n",
              "      <td>Delhi Capitals</td>\n",
              "      <td>field</td>\n",
              "      <td>normal</td>\n",
              "      <td>0</td>\n",
              "      <td>Delhi Capitals</td>\n",
              "      <td>0</td>\n",
              "      <td>2</td>\n",
              "      <td>RR Pant</td>\n",
              "      <td>ACA-VDCA Stadium</td>\n",
              "      <td>NaN</td>\n",
              "      <td>NaN</td>\n",
              "    </tr>\n",
              "    <tr>\n",
              "      <th>754</th>\n",
              "      <td>11414</td>\n",
              "      <td>2019</td>\n",
              "      <td>Visakhapatnam</td>\n",
              "      <td>10/05/19</td>\n",
              "      <td>Delhi Capitals</td>\n",
              "      <td>Chennai Super Kings</td>\n",
              "      <td>Chennai Super Kings</td>\n",
              "      <td>field</td>\n",
              "      <td>normal</td>\n",
              "      <td>0</td>\n",
              "      <td>Chennai Super Kings</td>\n",
              "      <td>0</td>\n",
              "      <td>6</td>\n",
              "      <td>F du Plessis</td>\n",
              "      <td>ACA-VDCA Stadium</td>\n",
              "      <td>Sundaram Ravi</td>\n",
              "      <td>Bruce Oxenford</td>\n",
              "    </tr>\n",
              "    <tr>\n",
              "      <th>755</th>\n",
              "      <td>11415</td>\n",
              "      <td>2019</td>\n",
              "      <td>Hyderabad</td>\n",
              "      <td>12/05/19</td>\n",
              "      <td>Mumbai Indians</td>\n",
              "      <td>Chennai Super Kings</td>\n",
              "      <td>Mumbai Indians</td>\n",
              "      <td>bat</td>\n",
              "      <td>normal</td>\n",
              "      <td>0</td>\n",
              "      <td>Mumbai Indians</td>\n",
              "      <td>1</td>\n",
              "      <td>0</td>\n",
              "      <td>JJ Bumrah</td>\n",
              "      <td>Rajiv Gandhi Intl. Cricket Stadium</td>\n",
              "      <td>Nitin Menon</td>\n",
              "      <td>Ian Gould</td>\n",
              "    </tr>\n",
              "  </tbody>\n",
              "</table>\n",
              "<p>756 rows × 17 columns</p>\n",
              "</div>\n",
              "      <button class=\"colab-df-convert\" onclick=\"convertToInteractive('df-d17734ab-884a-4fcb-b1a2-9467c800faa8')\"\n",
              "              title=\"Convert this dataframe to an interactive table.\"\n",
              "              style=\"display:none;\">\n",
              "        \n",
              "  <svg xmlns=\"http://www.w3.org/2000/svg\" height=\"24px\"viewBox=\"0 0 24 24\"\n",
              "       width=\"24px\">\n",
              "    <path d=\"M0 0h24v24H0V0z\" fill=\"none\"/>\n",
              "    <path d=\"M18.56 5.44l.94 2.06.94-2.06 2.06-.94-2.06-.94-.94-2.06-.94 2.06-2.06.94zm-11 1L8.5 8.5l.94-2.06 2.06-.94-2.06-.94L8.5 2.5l-.94 2.06-2.06.94zm10 10l.94 2.06.94-2.06 2.06-.94-2.06-.94-.94-2.06-.94 2.06-2.06.94z\"/><path d=\"M17.41 7.96l-1.37-1.37c-.4-.4-.92-.59-1.43-.59-.52 0-1.04.2-1.43.59L10.3 9.45l-7.72 7.72c-.78.78-.78 2.05 0 2.83L4 21.41c.39.39.9.59 1.41.59.51 0 1.02-.2 1.41-.59l7.78-7.78 2.81-2.81c.8-.78.8-2.07 0-2.86zM5.41 20L4 18.59l7.72-7.72 1.47 1.35L5.41 20z\"/>\n",
              "  </svg>\n",
              "      </button>\n",
              "      \n",
              "  <style>\n",
              "    .colab-df-container {\n",
              "      display:flex;\n",
              "      flex-wrap:wrap;\n",
              "      gap: 12px;\n",
              "    }\n",
              "\n",
              "    .colab-df-convert {\n",
              "      background-color: #E8F0FE;\n",
              "      border: none;\n",
              "      border-radius: 50%;\n",
              "      cursor: pointer;\n",
              "      display: none;\n",
              "      fill: #1967D2;\n",
              "      height: 32px;\n",
              "      padding: 0 0 0 0;\n",
              "      width: 32px;\n",
              "    }\n",
              "\n",
              "    .colab-df-convert:hover {\n",
              "      background-color: #E2EBFA;\n",
              "      box-shadow: 0px 1px 2px rgba(60, 64, 67, 0.3), 0px 1px 3px 1px rgba(60, 64, 67, 0.15);\n",
              "      fill: #174EA6;\n",
              "    }\n",
              "\n",
              "    [theme=dark] .colab-df-convert {\n",
              "      background-color: #3B4455;\n",
              "      fill: #D2E3FC;\n",
              "    }\n",
              "\n",
              "    [theme=dark] .colab-df-convert:hover {\n",
              "      background-color: #434B5C;\n",
              "      box-shadow: 0px 1px 3px 1px rgba(0, 0, 0, 0.15);\n",
              "      filter: drop-shadow(0px 1px 2px rgba(0, 0, 0, 0.3));\n",
              "      fill: #FFFFFF;\n",
              "    }\n",
              "  </style>\n",
              "\n",
              "      <script>\n",
              "        const buttonEl =\n",
              "          document.querySelector('#df-d17734ab-884a-4fcb-b1a2-9467c800faa8 button.colab-df-convert');\n",
              "        buttonEl.style.display =\n",
              "          google.colab.kernel.accessAllowed ? 'block' : 'none';\n",
              "\n",
              "        async function convertToInteractive(key) {\n",
              "          const element = document.querySelector('#df-d17734ab-884a-4fcb-b1a2-9467c800faa8');\n",
              "          const dataTable =\n",
              "            await google.colab.kernel.invokeFunction('convertToInteractive',\n",
              "                                                     [key], {});\n",
              "          if (!dataTable) return;\n",
              "\n",
              "          const docLinkHtml = 'Like what you see? Visit the ' +\n",
              "            '<a target=\"_blank\" href=https://colab.research.google.com/notebooks/data_table.ipynb>data table notebook</a>'\n",
              "            + ' to learn more about interactive tables.';\n",
              "          element.innerHTML = '';\n",
              "          dataTable['output_type'] = 'display_data';\n",
              "          await google.colab.output.renderOutput(dataTable, element);\n",
              "          const docLink = document.createElement('div');\n",
              "          docLink.innerHTML = docLinkHtml;\n",
              "          element.appendChild(docLink);\n",
              "        }\n",
              "      </script>\n",
              "    </div>\n",
              "  </div>\n",
              "  "
            ]
          },
          "metadata": {},
          "execution_count": 10
        }
      ]
    },
    {
      "cell_type": "code",
      "source": [
        "ipl=ipl.drop(['umpire3'], axis=1)"
      ],
      "metadata": {
        "id": "t0Di_BZxeJEE"
      },
      "execution_count": null,
      "outputs": []
    },
    {
      "cell_type": "code",
      "source": [
        "ipl.isna().sum()"
      ],
      "metadata": {
        "colab": {
          "base_uri": "https://localhost:8080/"
        },
        "id": "xE0L_eTvbI0A",
        "outputId": "e7ecf2ae-6709-4dae-d436-a4a77a3263f0"
      },
      "execution_count": 11,
      "outputs": [
        {
          "output_type": "execute_result",
          "data": {
            "text/plain": [
              "id                 0\n",
              "season             0\n",
              "city               7\n",
              "date               0\n",
              "team1              0\n",
              "team2              0\n",
              "toss_winner        0\n",
              "toss_decision      0\n",
              "result             0\n",
              "dl_applied         0\n",
              "winner             4\n",
              "win_by_runs        0\n",
              "win_by_wickets     0\n",
              "player_of_match    4\n",
              "venue              0\n",
              "umpire1            2\n",
              "umpire2            2\n",
              "dtype: int64"
            ]
          },
          "metadata": {},
          "execution_count": 11
        }
      ]
    },
    {
      "cell_type": "code",
      "source": [
        "ipl.dropna()"
      ],
      "metadata": {
        "colab": {
          "base_uri": "https://localhost:8080/",
          "height": 904
        },
        "id": "l5Tu70L5bK4y",
        "outputId": "91bbb83c-7973-4ea8-c5e5-16acb3fba3bf"
      },
      "execution_count": 12,
      "outputs": [
        {
          "output_type": "execute_result",
          "data": {
            "text/plain": [
              "        id  season           city        date                   team1  \\\n",
              "0        1    2017      Hyderabad  2017-04-05     Sunrisers Hyderabad   \n",
              "1        2    2017           Pune  2017-04-06          Mumbai Indians   \n",
              "2        3    2017         Rajkot  2017-04-07           Gujarat Lions   \n",
              "3        4    2017         Indore  2017-04-08  Rising Pune Supergiant   \n",
              "5        6    2017      Hyderabad  2017-04-09           Gujarat Lions   \n",
              "..     ...     ...            ...         ...                     ...   \n",
              "750  11346    2019         Mohali    05/05/19     Chennai Super Kings   \n",
              "751  11347    2019         Mumbai    05/05/19   Kolkata Knight Riders   \n",
              "752  11412    2019        Chennai    07/05/19     Chennai Super Kings   \n",
              "754  11414    2019  Visakhapatnam    10/05/19          Delhi Capitals   \n",
              "755  11415    2019      Hyderabad    12/05/19          Mumbai Indians   \n",
              "\n",
              "                           team2                  toss_winner toss_decision  \\\n",
              "0    Royal Challengers Bangalore  Royal Challengers Bangalore         field   \n",
              "1         Rising Pune Supergiant       Rising Pune Supergiant         field   \n",
              "2          Kolkata Knight Riders        Kolkata Knight Riders         field   \n",
              "3                Kings XI Punjab              Kings XI Punjab         field   \n",
              "5            Sunrisers Hyderabad          Sunrisers Hyderabad         field   \n",
              "..                           ...                          ...           ...   \n",
              "750              Kings XI Punjab              Kings XI Punjab         field   \n",
              "751               Mumbai Indians               Mumbai Indians         field   \n",
              "752               Mumbai Indians          Chennai Super Kings           bat   \n",
              "754          Chennai Super Kings          Chennai Super Kings         field   \n",
              "755          Chennai Super Kings               Mumbai Indians           bat   \n",
              "\n",
              "     result  dl_applied                  winner  win_by_runs  win_by_wickets  \\\n",
              "0    normal           0     Sunrisers Hyderabad           35               0   \n",
              "1    normal           0  Rising Pune Supergiant            0               7   \n",
              "2    normal           0   Kolkata Knight Riders            0              10   \n",
              "3    normal           0         Kings XI Punjab            0               6   \n",
              "5    normal           0     Sunrisers Hyderabad            0               9   \n",
              "..      ...         ...                     ...          ...             ...   \n",
              "750  normal           0         Kings XI Punjab            0               6   \n",
              "751  normal           0          Mumbai Indians            0               9   \n",
              "752  normal           0          Mumbai Indians            0               6   \n",
              "754  normal           0     Chennai Super Kings            0               6   \n",
              "755  normal           0          Mumbai Indians            1               0   \n",
              "\n",
              "    player_of_match                                      venue  \\\n",
              "0      Yuvraj Singh  Rajiv Gandhi International Stadium, Uppal   \n",
              "1         SPD Smith    Maharashtra Cricket Association Stadium   \n",
              "2           CA Lynn     Saurashtra Cricket Association Stadium   \n",
              "3        GJ Maxwell                     Holkar Cricket Stadium   \n",
              "5       Rashid Khan  Rajiv Gandhi International Stadium, Uppal   \n",
              "..              ...                                        ...   \n",
              "750        KL Rahul                          IS Bindra Stadium   \n",
              "751       HH Pandya                           Wankhede Stadium   \n",
              "752        AS Yadav                  M. A. Chidambaram Stadium   \n",
              "754    F du Plessis                           ACA-VDCA Stadium   \n",
              "755       JJ Bumrah         Rajiv Gandhi Intl. Cricket Stadium   \n",
              "\n",
              "                   umpire1         umpire2  \n",
              "0              AY Dandekar        NJ Llong  \n",
              "1           A Nand Kishore          S Ravi  \n",
              "2              Nitin Menon       CK Nandan  \n",
              "3             AK Chaudhary   C Shamshuddin  \n",
              "5               A Deshmukh        NJ Llong  \n",
              "..                     ...             ...  \n",
              "750  KN Ananthapadmanabhan   C Shamshuddin  \n",
              "751          Nanda Kishore        O Nandan  \n",
              "752            Nigel Llong     Nitin Menon  \n",
              "754          Sundaram Ravi  Bruce Oxenford  \n",
              "755            Nitin Menon       Ian Gould  \n",
              "\n",
              "[743 rows x 17 columns]"
            ],
            "text/html": [
              "\n",
              "  <div id=\"df-8869d82d-17a8-4e5b-9484-8d43fc3ad96b\">\n",
              "    <div class=\"colab-df-container\">\n",
              "      <div>\n",
              "<style scoped>\n",
              "    .dataframe tbody tr th:only-of-type {\n",
              "        vertical-align: middle;\n",
              "    }\n",
              "\n",
              "    .dataframe tbody tr th {\n",
              "        vertical-align: top;\n",
              "    }\n",
              "\n",
              "    .dataframe thead th {\n",
              "        text-align: right;\n",
              "    }\n",
              "</style>\n",
              "<table border=\"1\" class=\"dataframe\">\n",
              "  <thead>\n",
              "    <tr style=\"text-align: right;\">\n",
              "      <th></th>\n",
              "      <th>id</th>\n",
              "      <th>season</th>\n",
              "      <th>city</th>\n",
              "      <th>date</th>\n",
              "      <th>team1</th>\n",
              "      <th>team2</th>\n",
              "      <th>toss_winner</th>\n",
              "      <th>toss_decision</th>\n",
              "      <th>result</th>\n",
              "      <th>dl_applied</th>\n",
              "      <th>winner</th>\n",
              "      <th>win_by_runs</th>\n",
              "      <th>win_by_wickets</th>\n",
              "      <th>player_of_match</th>\n",
              "      <th>venue</th>\n",
              "      <th>umpire1</th>\n",
              "      <th>umpire2</th>\n",
              "    </tr>\n",
              "  </thead>\n",
              "  <tbody>\n",
              "    <tr>\n",
              "      <th>0</th>\n",
              "      <td>1</td>\n",
              "      <td>2017</td>\n",
              "      <td>Hyderabad</td>\n",
              "      <td>2017-04-05</td>\n",
              "      <td>Sunrisers Hyderabad</td>\n",
              "      <td>Royal Challengers Bangalore</td>\n",
              "      <td>Royal Challengers Bangalore</td>\n",
              "      <td>field</td>\n",
              "      <td>normal</td>\n",
              "      <td>0</td>\n",
              "      <td>Sunrisers Hyderabad</td>\n",
              "      <td>35</td>\n",
              "      <td>0</td>\n",
              "      <td>Yuvraj Singh</td>\n",
              "      <td>Rajiv Gandhi International Stadium, Uppal</td>\n",
              "      <td>AY Dandekar</td>\n",
              "      <td>NJ Llong</td>\n",
              "    </tr>\n",
              "    <tr>\n",
              "      <th>1</th>\n",
              "      <td>2</td>\n",
              "      <td>2017</td>\n",
              "      <td>Pune</td>\n",
              "      <td>2017-04-06</td>\n",
              "      <td>Mumbai Indians</td>\n",
              "      <td>Rising Pune Supergiant</td>\n",
              "      <td>Rising Pune Supergiant</td>\n",
              "      <td>field</td>\n",
              "      <td>normal</td>\n",
              "      <td>0</td>\n",
              "      <td>Rising Pune Supergiant</td>\n",
              "      <td>0</td>\n",
              "      <td>7</td>\n",
              "      <td>SPD Smith</td>\n",
              "      <td>Maharashtra Cricket Association Stadium</td>\n",
              "      <td>A Nand Kishore</td>\n",
              "      <td>S Ravi</td>\n",
              "    </tr>\n",
              "    <tr>\n",
              "      <th>2</th>\n",
              "      <td>3</td>\n",
              "      <td>2017</td>\n",
              "      <td>Rajkot</td>\n",
              "      <td>2017-04-07</td>\n",
              "      <td>Gujarat Lions</td>\n",
              "      <td>Kolkata Knight Riders</td>\n",
              "      <td>Kolkata Knight Riders</td>\n",
              "      <td>field</td>\n",
              "      <td>normal</td>\n",
              "      <td>0</td>\n",
              "      <td>Kolkata Knight Riders</td>\n",
              "      <td>0</td>\n",
              "      <td>10</td>\n",
              "      <td>CA Lynn</td>\n",
              "      <td>Saurashtra Cricket Association Stadium</td>\n",
              "      <td>Nitin Menon</td>\n",
              "      <td>CK Nandan</td>\n",
              "    </tr>\n",
              "    <tr>\n",
              "      <th>3</th>\n",
              "      <td>4</td>\n",
              "      <td>2017</td>\n",
              "      <td>Indore</td>\n",
              "      <td>2017-04-08</td>\n",
              "      <td>Rising Pune Supergiant</td>\n",
              "      <td>Kings XI Punjab</td>\n",
              "      <td>Kings XI Punjab</td>\n",
              "      <td>field</td>\n",
              "      <td>normal</td>\n",
              "      <td>0</td>\n",
              "      <td>Kings XI Punjab</td>\n",
              "      <td>0</td>\n",
              "      <td>6</td>\n",
              "      <td>GJ Maxwell</td>\n",
              "      <td>Holkar Cricket Stadium</td>\n",
              "      <td>AK Chaudhary</td>\n",
              "      <td>C Shamshuddin</td>\n",
              "    </tr>\n",
              "    <tr>\n",
              "      <th>5</th>\n",
              "      <td>6</td>\n",
              "      <td>2017</td>\n",
              "      <td>Hyderabad</td>\n",
              "      <td>2017-04-09</td>\n",
              "      <td>Gujarat Lions</td>\n",
              "      <td>Sunrisers Hyderabad</td>\n",
              "      <td>Sunrisers Hyderabad</td>\n",
              "      <td>field</td>\n",
              "      <td>normal</td>\n",
              "      <td>0</td>\n",
              "      <td>Sunrisers Hyderabad</td>\n",
              "      <td>0</td>\n",
              "      <td>9</td>\n",
              "      <td>Rashid Khan</td>\n",
              "      <td>Rajiv Gandhi International Stadium, Uppal</td>\n",
              "      <td>A Deshmukh</td>\n",
              "      <td>NJ Llong</td>\n",
              "    </tr>\n",
              "    <tr>\n",
              "      <th>...</th>\n",
              "      <td>...</td>\n",
              "      <td>...</td>\n",
              "      <td>...</td>\n",
              "      <td>...</td>\n",
              "      <td>...</td>\n",
              "      <td>...</td>\n",
              "      <td>...</td>\n",
              "      <td>...</td>\n",
              "      <td>...</td>\n",
              "      <td>...</td>\n",
              "      <td>...</td>\n",
              "      <td>...</td>\n",
              "      <td>...</td>\n",
              "      <td>...</td>\n",
              "      <td>...</td>\n",
              "      <td>...</td>\n",
              "      <td>...</td>\n",
              "    </tr>\n",
              "    <tr>\n",
              "      <th>750</th>\n",
              "      <td>11346</td>\n",
              "      <td>2019</td>\n",
              "      <td>Mohali</td>\n",
              "      <td>05/05/19</td>\n",
              "      <td>Chennai Super Kings</td>\n",
              "      <td>Kings XI Punjab</td>\n",
              "      <td>Kings XI Punjab</td>\n",
              "      <td>field</td>\n",
              "      <td>normal</td>\n",
              "      <td>0</td>\n",
              "      <td>Kings XI Punjab</td>\n",
              "      <td>0</td>\n",
              "      <td>6</td>\n",
              "      <td>KL Rahul</td>\n",
              "      <td>IS Bindra Stadium</td>\n",
              "      <td>KN Ananthapadmanabhan</td>\n",
              "      <td>C Shamshuddin</td>\n",
              "    </tr>\n",
              "    <tr>\n",
              "      <th>751</th>\n",
              "      <td>11347</td>\n",
              "      <td>2019</td>\n",
              "      <td>Mumbai</td>\n",
              "      <td>05/05/19</td>\n",
              "      <td>Kolkata Knight Riders</td>\n",
              "      <td>Mumbai Indians</td>\n",
              "      <td>Mumbai Indians</td>\n",
              "      <td>field</td>\n",
              "      <td>normal</td>\n",
              "      <td>0</td>\n",
              "      <td>Mumbai Indians</td>\n",
              "      <td>0</td>\n",
              "      <td>9</td>\n",
              "      <td>HH Pandya</td>\n",
              "      <td>Wankhede Stadium</td>\n",
              "      <td>Nanda Kishore</td>\n",
              "      <td>O Nandan</td>\n",
              "    </tr>\n",
              "    <tr>\n",
              "      <th>752</th>\n",
              "      <td>11412</td>\n",
              "      <td>2019</td>\n",
              "      <td>Chennai</td>\n",
              "      <td>07/05/19</td>\n",
              "      <td>Chennai Super Kings</td>\n",
              "      <td>Mumbai Indians</td>\n",
              "      <td>Chennai Super Kings</td>\n",
              "      <td>bat</td>\n",
              "      <td>normal</td>\n",
              "      <td>0</td>\n",
              "      <td>Mumbai Indians</td>\n",
              "      <td>0</td>\n",
              "      <td>6</td>\n",
              "      <td>AS Yadav</td>\n",
              "      <td>M. A. Chidambaram Stadium</td>\n",
              "      <td>Nigel Llong</td>\n",
              "      <td>Nitin Menon</td>\n",
              "    </tr>\n",
              "    <tr>\n",
              "      <th>754</th>\n",
              "      <td>11414</td>\n",
              "      <td>2019</td>\n",
              "      <td>Visakhapatnam</td>\n",
              "      <td>10/05/19</td>\n",
              "      <td>Delhi Capitals</td>\n",
              "      <td>Chennai Super Kings</td>\n",
              "      <td>Chennai Super Kings</td>\n",
              "      <td>field</td>\n",
              "      <td>normal</td>\n",
              "      <td>0</td>\n",
              "      <td>Chennai Super Kings</td>\n",
              "      <td>0</td>\n",
              "      <td>6</td>\n",
              "      <td>F du Plessis</td>\n",
              "      <td>ACA-VDCA Stadium</td>\n",
              "      <td>Sundaram Ravi</td>\n",
              "      <td>Bruce Oxenford</td>\n",
              "    </tr>\n",
              "    <tr>\n",
              "      <th>755</th>\n",
              "      <td>11415</td>\n",
              "      <td>2019</td>\n",
              "      <td>Hyderabad</td>\n",
              "      <td>12/05/19</td>\n",
              "      <td>Mumbai Indians</td>\n",
              "      <td>Chennai Super Kings</td>\n",
              "      <td>Mumbai Indians</td>\n",
              "      <td>bat</td>\n",
              "      <td>normal</td>\n",
              "      <td>0</td>\n",
              "      <td>Mumbai Indians</td>\n",
              "      <td>1</td>\n",
              "      <td>0</td>\n",
              "      <td>JJ Bumrah</td>\n",
              "      <td>Rajiv Gandhi Intl. Cricket Stadium</td>\n",
              "      <td>Nitin Menon</td>\n",
              "      <td>Ian Gould</td>\n",
              "    </tr>\n",
              "  </tbody>\n",
              "</table>\n",
              "<p>743 rows × 17 columns</p>\n",
              "</div>\n",
              "      <button class=\"colab-df-convert\" onclick=\"convertToInteractive('df-8869d82d-17a8-4e5b-9484-8d43fc3ad96b')\"\n",
              "              title=\"Convert this dataframe to an interactive table.\"\n",
              "              style=\"display:none;\">\n",
              "        \n",
              "  <svg xmlns=\"http://www.w3.org/2000/svg\" height=\"24px\"viewBox=\"0 0 24 24\"\n",
              "       width=\"24px\">\n",
              "    <path d=\"M0 0h24v24H0V0z\" fill=\"none\"/>\n",
              "    <path d=\"M18.56 5.44l.94 2.06.94-2.06 2.06-.94-2.06-.94-.94-2.06-.94 2.06-2.06.94zm-11 1L8.5 8.5l.94-2.06 2.06-.94-2.06-.94L8.5 2.5l-.94 2.06-2.06.94zm10 10l.94 2.06.94-2.06 2.06-.94-2.06-.94-.94-2.06-.94 2.06-2.06.94z\"/><path d=\"M17.41 7.96l-1.37-1.37c-.4-.4-.92-.59-1.43-.59-.52 0-1.04.2-1.43.59L10.3 9.45l-7.72 7.72c-.78.78-.78 2.05 0 2.83L4 21.41c.39.39.9.59 1.41.59.51 0 1.02-.2 1.41-.59l7.78-7.78 2.81-2.81c.8-.78.8-2.07 0-2.86zM5.41 20L4 18.59l7.72-7.72 1.47 1.35L5.41 20z\"/>\n",
              "  </svg>\n",
              "      </button>\n",
              "      \n",
              "  <style>\n",
              "    .colab-df-container {\n",
              "      display:flex;\n",
              "      flex-wrap:wrap;\n",
              "      gap: 12px;\n",
              "    }\n",
              "\n",
              "    .colab-df-convert {\n",
              "      background-color: #E8F0FE;\n",
              "      border: none;\n",
              "      border-radius: 50%;\n",
              "      cursor: pointer;\n",
              "      display: none;\n",
              "      fill: #1967D2;\n",
              "      height: 32px;\n",
              "      padding: 0 0 0 0;\n",
              "      width: 32px;\n",
              "    }\n",
              "\n",
              "    .colab-df-convert:hover {\n",
              "      background-color: #E2EBFA;\n",
              "      box-shadow: 0px 1px 2px rgba(60, 64, 67, 0.3), 0px 1px 3px 1px rgba(60, 64, 67, 0.15);\n",
              "      fill: #174EA6;\n",
              "    }\n",
              "\n",
              "    [theme=dark] .colab-df-convert {\n",
              "      background-color: #3B4455;\n",
              "      fill: #D2E3FC;\n",
              "    }\n",
              "\n",
              "    [theme=dark] .colab-df-convert:hover {\n",
              "      background-color: #434B5C;\n",
              "      box-shadow: 0px 1px 3px 1px rgba(0, 0, 0, 0.15);\n",
              "      filter: drop-shadow(0px 1px 2px rgba(0, 0, 0, 0.3));\n",
              "      fill: #FFFFFF;\n",
              "    }\n",
              "  </style>\n",
              "\n",
              "      <script>\n",
              "        const buttonEl =\n",
              "          document.querySelector('#df-8869d82d-17a8-4e5b-9484-8d43fc3ad96b button.colab-df-convert');\n",
              "        buttonEl.style.display =\n",
              "          google.colab.kernel.accessAllowed ? 'block' : 'none';\n",
              "\n",
              "        async function convertToInteractive(key) {\n",
              "          const element = document.querySelector('#df-8869d82d-17a8-4e5b-9484-8d43fc3ad96b');\n",
              "          const dataTable =\n",
              "            await google.colab.kernel.invokeFunction('convertToInteractive',\n",
              "                                                     [key], {});\n",
              "          if (!dataTable) return;\n",
              "\n",
              "          const docLinkHtml = 'Like what you see? Visit the ' +\n",
              "            '<a target=\"_blank\" href=https://colab.research.google.com/notebooks/data_table.ipynb>data table notebook</a>'\n",
              "            + ' to learn more about interactive tables.';\n",
              "          element.innerHTML = '';\n",
              "          dataTable['output_type'] = 'display_data';\n",
              "          await google.colab.output.renderOutput(dataTable, element);\n",
              "          const docLink = document.createElement('div');\n",
              "          docLink.innerHTML = docLinkHtml;\n",
              "          element.appendChild(docLink);\n",
              "        }\n",
              "      </script>\n",
              "    </div>\n",
              "  </div>\n",
              "  "
            ]
          },
          "metadata": {},
          "execution_count": 12
        }
      ]
    },
    {
      "cell_type": "markdown",
      "source": [
        "Since the column city , winner and player of the match datas are missing which are very essential for our analysis.Thus these column values containing NA are dropped out"
      ],
      "metadata": {
        "id": "25sqQ_9FbT-E"
      }
    },
    {
      "cell_type": "markdown",
      "source": [
        "#INFERENCES"
      ],
      "metadata": {
        "id": "NvcfBGWgV-Rs"
      }
    },
    {
      "cell_type": "markdown",
      "source": [
        "##1)First 10 **best players of match**\n",
        "\n",
        "---\n",
        "\n"
      ],
      "metadata": {
        "id": "hc_q1mloNaJi"
      }
    },
    {
      "cell_type": "code",
      "source": [
        "ipl['player_of_match'].value_counts().head(10)"
      ],
      "metadata": {
        "colab": {
          "base_uri": "https://localhost:8080/"
        },
        "id": "Xkxc82HNNUD3",
        "outputId": "dbd4d096-3a86-434b-eaa1-5b4a644a0d6c"
      },
      "execution_count": 32,
      "outputs": [
        {
          "output_type": "execute_result",
          "data": {
            "text/plain": [
              "CH Gayle          21\n",
              "AB de Villiers    20\n",
              "RG Sharma         17\n",
              "MS Dhoni          17\n",
              "DA Warner         17\n",
              "YK Pathan         16\n",
              "SR Watson         15\n",
              "SK Raina          14\n",
              "G Gambhir         13\n",
              "MEK Hussey        12\n",
              "Name: player_of_match, dtype: int64"
            ]
          },
          "metadata": {},
          "execution_count": 32
        }
      ]
    },
    {
      "cell_type": "code",
      "source": [
        "plt.figure(figsize=(15,5))\n",
        "plt.bar(list(ipl['player_of_match'].value_counts()[0:10].keys()),list(ipl['player_of_match'].value_counts()[0:10]),color='g')\n",
        "plt.title(\"top five players -MAN OF THE MATCH\")\n",
        "plt.xlabel(\"players\")\n",
        "plt.ylabel(\"no of times securing man of the match\")\n",
        "plt.show()"
      ],
      "metadata": {
        "colab": {
          "base_uri": "https://localhost:8080/",
          "height": 336
        },
        "id": "rUZq2dBoN9SG",
        "outputId": "191da50b-95bb-4e4e-d0ce-8d3f63913972"
      },
      "execution_count": 33,
      "outputs": [
        {
          "output_type": "display_data",
          "data": {
            "text/plain": [
              "<Figure size 1080x360 with 1 Axes>"
            ],
            "image/png": "[encoded data removed]"
          },
          "metadata": {
            "needs_background": "light"
          }
        }
      ]
    },
    {
      "cell_type": "markdown",
      "source": [
        "Highest number of player of the match obtained by CH Gayle followed by AB de Villiers."
      ],
      "metadata": {
        "id": "EJLgRV4NZugV"
      }
    },
    {
      "cell_type": "markdown",
      "source": [
        "#2)Number of ties produced"
      ],
      "metadata": {
        "id": "KG2pVg0Feg6g"
      }
    },
    {
      "cell_type": "code",
      "source": [
        "ipl['result'].value_counts()"
      ],
      "metadata": {
        "colab": {
          "base_uri": "https://localhost:8080/"
        },
        "id": "-eXfNybMPYWY",
        "outputId": "83071535-3086-4dc5-fcea-31c1ac2d24f7"
      },
      "execution_count": 34,
      "outputs": [
        {
          "output_type": "execute_result",
          "data": {
            "text/plain": [
              "normal       743\n",
              "tie            9\n",
              "no result      4\n",
              "Name: result, dtype: int64"
            ]
          },
          "metadata": {},
          "execution_count": 34
        }
      ]
    },
    {
      "cell_type": "markdown",
      "source": [
        "Out of 756 matches 9 tie is obtained."
      ],
      "metadata": {
        "id": "rRrEYl2DZ-gi"
      }
    },
    {
      "cell_type": "markdown",
      "source": [
        "#3)Highest toss winners"
      ],
      "metadata": {
        "id": "5FVhM9gIew2h"
      }
    },
    {
      "cell_type": "code",
      "source": [
        "ipl['toss_winner'].value_counts()"
      ],
      "metadata": {
        "colab": {
          "base_uri": "https://localhost:8080/"
        },
        "id": "wPI9Vsc5QGEc",
        "outputId": "3835d2ea-926b-472e-d51a-85e394b05ee2"
      },
      "execution_count": 35,
      "outputs": [
        {
          "output_type": "execute_result",
          "data": {
            "text/plain": [
              "Mumbai Indians                 98\n",
              "Kolkata Knight Riders          92\n",
              "Chennai Super Kings            89\n",
              "Royal Challengers Bangalore    81\n",
              "Kings XI Punjab                81\n",
              "Delhi Daredevils               80\n",
              "Rajasthan Royals               80\n",
              "Sunrisers Hyderabad            46\n",
              "Deccan Chargers                43\n",
              "Pune Warriors                  20\n",
              "Gujarat Lions                  15\n",
              "Delhi Capitals                 10\n",
              "Kochi Tuskers Kerala            8\n",
              "Rising Pune Supergiants         7\n",
              "Rising Pune Supergiant          6\n",
              "Name: toss_winner, dtype: int64"
            ]
          },
          "metadata": {},
          "execution_count": 35
        }
      ]
    },
    {
      "cell_type": "markdown",
      "source": [
        "Mumbai indians are the highest toss winners followed by Kolakata knight riders."
      ],
      "metadata": {
        "id": "n4JtP_tyaQky"
      }
    },
    {
      "cell_type": "markdown",
      "source": [
        "#4)Teams with highest win by first batting"
      ],
      "metadata": {
        "id": "joIal3FOe560"
      }
    },
    {
      "cell_type": "code",
      "source": [
        "batting_first=ipl[ipl['win_by_runs']!=0]\n",
        "batting_first.winner.value_counts()"
      ],
      "metadata": {
        "colab": {
          "base_uri": "https://localhost:8080/"
        },
        "id": "DqTW4RJOQfs7",
        "outputId": "22c77894-35fd-4143-bd5f-03a05dec9fae"
      },
      "execution_count": 36,
      "outputs": [
        {
          "output_type": "execute_result",
          "data": {
            "text/plain": [
              "Mumbai Indians                 57\n",
              "Chennai Super Kings            52\n",
              "Kings XI Punjab                38\n",
              "Kolkata Knight Riders          36\n",
              "Royal Challengers Bangalore    35\n",
              "Sunrisers Hyderabad            30\n",
              "Rajasthan Royals               27\n",
              "Delhi Daredevils               25\n",
              "Deccan Chargers                18\n",
              "Pune Warriors                   6\n",
              "Rising Pune Supergiant          5\n",
              "Delhi Capitals                  3\n",
              "Kochi Tuskers Kerala            2\n",
              "Rising Pune Supergiants         2\n",
              "Gujarat Lions                   1\n",
              "Name: winner, dtype: int64"
            ]
          },
          "metadata": {},
          "execution_count": 36
        }
      ]
    },
    {
      "cell_type": "markdown",
      "source": [
        "Highest team who won by runs Mumbai indians followed by Chennai super kings"
      ],
      "metadata": {
        "id": "56PbxJSXapHa"
      }
    },
    {
      "cell_type": "code",
      "source": [
        "plt.figure(figsize=(7,7))\n",
        "plt.hist(batting_first['win_by_runs'])\n",
        "plt.xlabel(\"No of runs\")\n",
        "plt.ylabel(\"No of wins\")\n",
        "plt.show()"
      ],
      "metadata": {
        "colab": {
          "base_uri": "https://localhost:8080/",
          "height": 442
        },
        "id": "W5Jajyg_Q5S4",
        "outputId": "c88c0cdb-191c-4eb9-fde3-0d4dacb9700d"
      },
      "execution_count": 43,
      "outputs": [
        {
          "output_type": "display_data",
          "data": {
            "text/plain": [
              "<Figure size 504x504 with 1 Axes>"
            ],
            "image/png": "[encoded data removed]"
          },
          "metadata": {
            "needs_background": "light"
          }
        }
      ]
    },
    {
      "cell_type": "markdown",
      "source": [
        "Neraly 2 to 3 matches have been defeted by 140 runs.120 matches have been defeated by approximately 20 runs."
      ],
      "metadata": {
        "id": "DS-5FWGva4Jp"
      }
    },
    {
      "cell_type": "markdown",
      "source": [
        "#1)Highest number of wins by batting first"
      ],
      "metadata": {
        "id": "6IYYtDgAb3yx"
      }
    },
    {
      "cell_type": "code",
      "source": [
        "plt.figure(figsize=(25,5))\n",
        "plt.bar(list(batting_first['winner'].value_counts()[0:10].keys()),list(batting_first['winner'].value_counts()[0:10]),color=[\"orange\"])\n",
        "plt.show()"
      ],
      "metadata": {
        "colab": {
          "base_uri": "https://localhost:8080/",
          "height": 340
        },
        "id": "5HmMTB6_S_X9",
        "outputId": "23c677ae-3990-4875-d61a-9f30bd411168"
      },
      "execution_count": 38,
      "outputs": [
        {
          "output_type": "display_data",
          "data": {
            "text/plain": [
              "<Figure size 1800x360 with 1 Axes>"
            ],
            "image/png": "[encoded data removed]"
          },
          "metadata": {
            "needs_background": "light"
          }
        }
      ]
    },
    {
      "cell_type": "code",
      "source": [
        "plt.figure(figsize=(10,10))\n",
        "plt.pie(list(batting_first['winner'].value_counts()),labels=list(batting_first['winner'].value_counts().keys()),autopct='%0.1f%%')\n",
        "plt.show()"
      ],
      "metadata": {
        "colab": {
          "base_uri": "https://localhost:8080/",
          "height": 575
        },
        "id": "fysZGLIDT7Tn",
        "outputId": "60f05c65-ee8b-4854-a713-fe1f8fb7a940"
      },
      "execution_count": 39,
      "outputs": [
        {
          "output_type": "display_data",
          "data": {
            "text/plain": [
              "<Figure size 720x720 with 1 Axes>"
            ],
            "image/png": "[encoded data removed]"
          },
          "metadata": {}
        }
      ]
    },
    {
      "cell_type": "markdown",
      "source": [
        "HIGHEST CHASING :16.9% wins is produced by mumbai indians.15.4% wins is produced by chennai super kings. "
      ],
      "metadata": {
        "id": "LS7t1fA9chXv"
      }
    },
    {
      "cell_type": "markdown",
      "source": [
        "#5)Teams with highest win by second batting"
      ],
      "metadata": {
        "id": "YezhH7uOfN2s"
      }
    },
    {
      "cell_type": "code",
      "source": [
        "batting_second=ipl[ipl['win_by_wickets']!=0]\n",
        "batting_second.winner.value_counts()"
      ],
      "metadata": {
        "colab": {
          "base_uri": "https://localhost:8080/"
        },
        "id": "iUdWJNJCUKRa",
        "outputId": "1bffc7cf-d4d7-4abe-bc62-1b674d9f4fed"
      },
      "execution_count": 40,
      "outputs": [
        {
          "output_type": "execute_result",
          "data": {
            "text/plain": [
              "Kolkata Knight Riders          56\n",
              "Mumbai Indians                 50\n",
              "Royal Challengers Bangalore    48\n",
              "Chennai Super Kings            48\n",
              "Rajasthan Royals               46\n",
              "Kings XI Punjab                42\n",
              "Delhi Daredevils               42\n",
              "Sunrisers Hyderabad            27\n",
              "Gujarat Lions                  12\n",
              "Deccan Chargers                11\n",
              "Pune Warriors                   6\n",
              "Delhi Capitals                  6\n",
              "Rising Pune Supergiant          5\n",
              "Kochi Tuskers Kerala            4\n",
              "Rising Pune Supergiants         3\n",
              "Name: winner, dtype: int64"
            ]
          },
          "metadata": {},
          "execution_count": 40
        }
      ]
    },
    {
      "cell_type": "markdown",
      "source": [
        "Team who have highest win by wicket is kolkata knight riders followed by mumbai indians"
      ],
      "metadata": {
        "id": "V6GKo6KLdACq"
      }
    },
    {
      "cell_type": "code",
      "source": [
        "plt.figure(figsize=(7,7))\n",
        "plt.hist(batting_second['win_by_wickets'],bins=30)\n",
        "plt.xlabel(\"no of wickets\")\n",
        "plt.ylabel(\"no of matches\")\n",
        "plt.show()"
      ],
      "metadata": {
        "colab": {
          "base_uri": "https://localhost:8080/",
          "height": 442
        },
        "id": "qLkOYOtRUUFz",
        "outputId": "6aaf2fde-287e-44fd-ecc0-b422ce29d00a"
      },
      "execution_count": 42,
      "outputs": [
        {
          "output_type": "display_data",
          "data": {
            "text/plain": [
              "<Figure size 504x504 with 1 Axes>"
            ],
            "image/png": "[encoded data removed]"
          },
          "metadata": {
            "needs_background": "light"
          }
        }
      ]
    },
    {
      "cell_type": "markdown",
      "source": [
        "Nearly 80 matches have been defeated by an average of 6 wickets and 10 matches have been defeated by an average of 10 wickets."
      ],
      "metadata": {
        "id": "7Xwv883bfD8L"
      }
    },
    {
      "cell_type": "code",
      "source": [
        "plt.figure(figsize=(20,7))\n",
        "plt.bar(list(batting_second['winner'].value_counts()[0:10].keys()),list(batting_second['winner'].value_counts()[0:10]),color=[\"pink\"])\n",
        "plt.show()"
      ],
      "metadata": {
        "colab": {
          "base_uri": "https://localhost:8080/",
          "height": 448
        },
        "id": "LfkwZZ3jUdXR",
        "outputId": "46b36ff1-7434-450c-b9c6-4a92b7aadec4"
      },
      "execution_count": 44,
      "outputs": [
        {
          "output_type": "display_data",
          "data": {
            "text/plain": [
              "<Figure size 1440x504 with 1 Axes>"
            ],
            "image/png": "[encoded data removed]"
          },
          "metadata": {
            "needs_background": "light"
          }
        }
      ]
    },
    {
      "cell_type": "code",
      "source": [
        "plt.figure(figsize=(10,10))\n",
        "plt.pie(list(batting_second['winner'].value_counts()),labels=list(batting_second['winner'].value_counts().keys()),autopct='%0.1f%%')\n",
        "plt.show()"
      ],
      "metadata": {
        "colab": {
          "base_uri": "https://localhost:8080/",
          "height": 575
        },
        "id": "fRgbri1DffXQ",
        "outputId": "5e1e9d4a-0a6c-4b01-dd86-1c9dd9bd049f"
      },
      "execution_count": 45,
      "outputs": [
        {
          "output_type": "display_data",
          "data": {
            "text/plain": [
              "<Figure size 720x720 with 1 Axes>"
            ],
            "image/png": "[encoded data removed]"
          },
          "metadata": {}
        }
      ]
    },
    {
      "cell_type": "markdown",
      "source": [
        "HIGHEST DEFENDING:13.8% wins is produced by Kolkata knight riders.12.3% wins is produced by mumbai indians."
      ],
      "metadata": {
        "id": "qaJXg7DYfmhy"
      }
    },
    {
      "cell_type": "markdown",
      "source": [
        "#6)Nmber of Teams who wins the match by batting first"
      ],
      "metadata": {
        "id": "FaddyM3ifUs_"
      }
    },
    {
      "cell_type": "code",
      "source": [
        "import numpy as np\n",
        "np.sum(ipl['toss_winner']==ipl['winner'])"
      ],
      "metadata": {
        "colab": {
          "base_uri": "https://localhost:8080/"
        },
        "id": "YaHgUHeJUpLF",
        "outputId": "da74b6df-ee43-4d0a-d4f3-d77b13490aee"
      },
      "execution_count": 46,
      "outputs": [
        {
          "output_type": "execute_result",
          "data": {
            "text/plain": [
              "393"
            ]
          },
          "metadata": {},
          "execution_count": 46
        }
      ]
    },
    {
      "cell_type": "code",
      "source": [
        "ipl.shape"
      ],
      "metadata": {
        "colab": {
          "base_uri": "https://localhost:8080/"
        },
        "id": "Dh0ksf10U_gp",
        "outputId": "7a15f951-640e-4758-bd0e-b3b53d93bfde"
      },
      "execution_count": 25,
      "outputs": [
        {
          "output_type": "execute_result",
          "data": {
            "text/plain": [
              "(756, 17)"
            ]
          },
          "metadata": {},
          "execution_count": 25
        }
      ]
    },
    {
      "cell_type": "code",
      "source": [
        "393/756"
      ],
      "metadata": {
        "colab": {
          "base_uri": "https://localhost:8080/"
        },
        "id": "pRRN4tsLVDiU",
        "outputId": "8502f281-ee07-4dd3-9527-d626023ec0e4"
      },
      "execution_count": 26,
      "outputs": [
        {
          "output_type": "execute_result",
          "data": {
            "text/plain": [
              "0.5198412698412699"
            ]
          },
          "metadata": {},
          "execution_count": 26
        }
      ]
    },
    {
      "cell_type": "markdown",
      "source": [
        "Nearly 51% of the team won, who have opted batting first."
      ],
      "metadata": {
        "id": "5v97g5UDf5-T"
      }
    },
    {
      "cell_type": "markdown",
      "source": [
        "#7)city that hosted maximum Ipl matches"
      ],
      "metadata": {
        "id": "TqL96oLXgKbZ"
      }
    },
    {
      "cell_type": "code",
      "source": [
        "ipl.city.value_counts()"
      ],
      "metadata": {
        "colab": {
          "base_uri": "https://localhost:8080/"
        },
        "id": "ytVNmSSqg_ej",
        "outputId": "5ce43415-8b03-467c-9c26-078a07300856"
      },
      "execution_count": 48,
      "outputs": [
        {
          "output_type": "execute_result",
          "data": {
            "text/plain": [
              "Mumbai            101\n",
              "Kolkata            77\n",
              "Delhi              74\n",
              "Bangalore          66\n",
              "Hyderabad          64\n",
              "Chennai            57\n",
              "Jaipur             47\n",
              "Chandigarh         46\n",
              "Pune               38\n",
              "Durban             15\n",
              "Bengaluru          14\n",
              "Visakhapatnam      13\n",
              "Centurion          12\n",
              "Ahmedabad          12\n",
              "Rajkot             10\n",
              "Mohali             10\n",
              "Indore              9\n",
              "Dharamsala          9\n",
              "Johannesburg        8\n",
              "Cuttack             7\n",
              "Ranchi              7\n",
              "Port Elizabeth      7\n",
              "Cape Town           7\n",
              "Abu Dhabi           7\n",
              "Sharjah             6\n",
              "Raipur              6\n",
              "Kochi               5\n",
              "Kanpur              4\n",
              "Nagpur              3\n",
              "Kimberley           3\n",
              "East London         3\n",
              "Bloemfontein        2\n",
              "Name: city, dtype: int64"
            ]
          },
          "metadata": {},
          "execution_count": 48
        }
      ]
    },
    {
      "cell_type": "markdown",
      "source": [
        "Mumbai hoisted neraly 101 matches followed by kolkata with 77 matches"
      ],
      "metadata": {
        "id": "GpWItGe2hOWN"
      }
    },
    {
      "cell_type": "markdown",
      "source": [
        "#8)city that is good for first batting"
      ],
      "metadata": {
        "id": "RxvmkYAKjBMV"
      }
    },
    {
      "cell_type": "code",
      "source": [
        "batting_first.city.value_counts()"
      ],
      "metadata": {
        "colab": {
          "base_uri": "https://localhost:8080/"
        },
        "id": "mswu4NDRh29l",
        "outputId": "341a8d64-5caf-4004-998b-a2b7ab99a80a"
      },
      "execution_count": 53,
      "outputs": [
        {
          "output_type": "execute_result",
          "data": {
            "text/plain": [
              "Mumbai            48\n",
              "Delhi             35\n",
              "Chennai           34\n",
              "Kolkata           32\n",
              "Hyderabad         28\n",
              "Bangalore         27\n",
              "Chandigarh        20\n",
              "Pune              18\n",
              "Jaipur            15\n",
              "Durban             9\n",
              "Visakhapatnam      7\n",
              "Ahmedabad          6\n",
              "Bengaluru          6\n",
              "Dharamsala         5\n",
              "Centurion          4\n",
              "Mohali             4\n",
              "Cuttack            4\n",
              "Cape Town          4\n",
              "Abu Dhabi          3\n",
              "Kochi              3\n",
              "Johannesburg       3\n",
              "Port Elizabeth     3\n",
              "Rajkot             3\n",
              "Nagpur             2\n",
              "Raipur             2\n",
              "Ranchi             2\n",
              "East London        2\n",
              "Sharjah            2\n",
              "Bloemfontein       1\n",
              "Kimberley          1\n",
              "Indore             1\n",
              "Name: city, dtype: int64"
            ]
          },
          "metadata": {},
          "execution_count": 53
        }
      ]
    },
    {
      "cell_type": "code",
      "source": [
        "plt.figure(figsize=(10,10))\n",
        "plt.pie(list(batting_first['city'].value_counts()),labels=list(batting_first['city'].value_counts().keys()),autopct='%0.1f%%')\n",
        "plt.show()"
      ],
      "metadata": {
        "colab": {
          "base_uri": "https://localhost:8080/",
          "height": 575
        },
        "id": "7UJVsgAbiUlz",
        "outputId": "71f2db84-9f38-422e-e061-f2668f4ac5b8"
      },
      "execution_count": 51,
      "outputs": [
        {
          "output_type": "display_data",
          "data": {
            "text/plain": [
              "<Figure size 720x720 with 1 Axes>"
            ],
            "image/png": "[encoded data removed]"
          },
          "metadata": {}
        }
      ]
    },
    {
      "cell_type": "markdown",
      "source": [
        "14.4% (48 matches)of the wins produced from mumbai stadium followed by 10.5%(35 matches)"
      ],
      "metadata": {
        "id": "sc7ia7UaimDS"
      }
    },
    {
      "cell_type": "markdown",
      "source": [
        "#8)city that is good for second batting"
      ],
      "metadata": {
        "id": "VtvoSMTjiy2W"
      }
    },
    {
      "cell_type": "code",
      "source": [
        "batting_second.city.value_counts()"
      ],
      "metadata": {
        "colab": {
          "base_uri": "https://localhost:8080/"
        },
        "id": "GX9F3laCj5sM",
        "outputId": "bbe3cd13-080d-458c-da60-dbc797ce3fdd"
      },
      "execution_count": 54,
      "outputs": [
        {
          "output_type": "execute_result",
          "data": {
            "text/plain": [
              "Mumbai            52\n",
              "Kolkata           45\n",
              "Delhi             37\n",
              "Bangalore         36\n",
              "Hyderabad         35\n",
              "Jaipur            32\n",
              "Chandigarh        26\n",
              "Chennai           22\n",
              "Pune              20\n",
              "Indore             8\n",
              "Centurion          8\n",
              "Bengaluru          7\n",
              "Durban             6\n",
              "Mohali             6\n",
              "Rajkot             6\n",
              "Visakhapatnam      6\n",
              "Johannesburg       5\n",
              "Ranchi             5\n",
              "Ahmedabad          5\n",
              "Sharjah            4\n",
              "Raipur             4\n",
              "Dharamsala         4\n",
              "Kanpur             4\n",
              "Port Elizabeth     4\n",
              "Cuttack            3\n",
              "Abu Dhabi          3\n",
              "Kochi              2\n",
              "Kimberley          2\n",
              "Cape Town          2\n",
              "Nagpur             1\n",
              "Bloemfontein       1\n",
              "East London        1\n",
              "Name: city, dtype: int64"
            ]
          },
          "metadata": {},
          "execution_count": 54
        }
      ]
    },
    {
      "cell_type": "code",
      "source": [
        "plt.figure(figsize=(10,10))\n",
        "plt.pie(list(batting_second['city'].value_counts()),labels=list(batting_second['city'].value_counts().keys()),autopct='%0.1f%%')\n",
        "plt.show()"
      ],
      "metadata": {
        "colab": {
          "base_uri": "https://localhost:8080/",
          "height": 575
        },
        "id": "k1PKg9btkE3B",
        "outputId": "a80834ca-3813-4281-86e2-3d87e31065d9"
      },
      "execution_count": 55,
      "outputs": [
        {
          "output_type": "display_data",
          "data": {
            "text/plain": [
              "<Figure size 720x720 with 1 Axes>"
            ],
            "image/png": "[encoded data removed]"
          },
          "metadata": {}
        }
      ]
    },
    {
      "cell_type": "markdown",
      "source": [
        "12.9%(52 matches) of the wins produced by Mumbai stadium followed by kolkata 11.2%(45 matches)"
      ],
      "metadata": {
        "id": "63cjutNckMAn"
      }
    },
    {
      "cell_type": "markdown",
      "source": [
        "#9)Number of matches every season"
      ],
      "metadata": {
        "id": "t4Hu5DQGknD8"
      }
    },
    {
      "cell_type": "code",
      "source": [
        "ipl.season.value_counts()"
      ],
      "metadata": {
        "colab": {
          "base_uri": "https://localhost:8080/"
        },
        "id": "Ozn71nffk-nm",
        "outputId": "493a2f0d-2ec4-4399-b03f-8f456c9a610e"
      },
      "execution_count": 56,
      "outputs": [
        {
          "output_type": "execute_result",
          "data": {
            "text/plain": [
              "2013    76\n",
              "2012    74\n",
              "2011    73\n",
              "2010    60\n",
              "2014    60\n",
              "2016    60\n",
              "2018    60\n",
              "2019    60\n",
              "2017    59\n",
              "2015    59\n",
              "2008    58\n",
              "2009    57\n",
              "Name: season, dtype: int64"
            ]
          },
          "metadata": {},
          "execution_count": 56
        }
      ]
    },
    {
      "cell_type": "markdown",
      "source": [
        "year 2009 started with 57 matches and year 2013 hoisted 76 matches."
      ],
      "metadata": {
        "id": "3X_o3QualFjB"
      }
    },
    {
      "cell_type": "markdown",
      "source": [
        "#10)Number of batting and fielding"
      ],
      "metadata": {
        "id": "PTamgM1kldbk"
      }
    },
    {
      "cell_type": "code",
      "source": [
        "ipl.toss_decision.value_counts()"
      ],
      "metadata": {
        "colab": {
          "base_uri": "https://localhost:8080/"
        },
        "id": "uG1MtH2wlqJn",
        "outputId": "4e0efea4-83d0-47e0-8da4-3ac27be1aed8"
      },
      "execution_count": 57,
      "outputs": [
        {
          "output_type": "execute_result",
          "data": {
            "text/plain": [
              "field    463\n",
              "bat      293\n",
              "Name: toss_decision, dtype: int64"
            ]
          },
          "metadata": {},
          "execution_count": 57
        }
      ]
    },
    {
      "cell_type": "markdown",
      "source": [
        "463 people decided to field and 293 chose to bat"
      ],
      "metadata": {
        "id": "l_uM29u3lyT9"
      }
    },
    {
      "cell_type": "markdown",
      "source": [
        "#11)Number of teams applied DL"
      ],
      "metadata": {
        "id": "8SXR9k25nN4d"
      }
    },
    {
      "cell_type": "code",
      "source": [
        "ipl.dl_applied.value_counts()"
      ],
      "metadata": {
        "colab": {
          "base_uri": "https://localhost:8080/"
        },
        "id": "_pnp596Bm7QO",
        "outputId": "11324a4e-df46-4053-d93f-7009d86d3d70"
      },
      "execution_count": 71,
      "outputs": [
        {
          "output_type": "execute_result",
          "data": {
            "text/plain": [
              "0    737\n",
              "1     19\n",
              "Name: dl_applied, dtype: int64"
            ]
          },
          "metadata": {},
          "execution_count": 71
        }
      ]
    },
    {
      "cell_type": "markdown",
      "source": [
        "19 teams applied DL"
      ],
      "metadata": {
        "id": "rt1jVPo1nJ12"
      }
    },
    {
      "cell_type": "markdown",
      "source": [
        "#12)Maximum Number of matches attended by on-field umpire"
      ],
      "metadata": {
        "id": "Thnp2om-nk-q"
      }
    },
    {
      "cell_type": "code",
      "source": [
        "ipl.umpire1.value_counts()"
      ],
      "metadata": {
        "colab": {
          "base_uri": "https://localhost:8080/"
        },
        "id": "_gRVsPnwnxYi",
        "outputId": "bcb65117-b16d-49d2-f72b-b8903e3cb0c4"
      },
      "execution_count": 72,
      "outputs": [
        {
          "output_type": "execute_result",
          "data": {
            "text/plain": [
              "HDPK Dharmasena    73\n",
              "Asad Rauf          51\n",
              "S Ravi             49\n",
              "AK Chaudhary       43\n",
              "Aleem Dar          38\n",
              "                   ..\n",
              "Nanda Kishore       1\n",
              "SJA Taufel          1\n",
              "A Nanda Kishore     1\n",
              "SL Shastri          1\n",
              "Sundaram Ravi       1\n",
              "Name: umpire1, Length: 61, dtype: int64"
            ]
          },
          "metadata": {},
          "execution_count": 72
        }
      ]
    },
    {
      "cell_type": "markdown",
      "source": [
        "HDPK Dharmasena has been the umpire1 for nearly 73 matches across all seasons."
      ],
      "metadata": {
        "id": "LDVAE9Ucn6Rc"
      }
    },
    {
      "cell_type": "markdown",
      "source": [
        "#13)Best venue for defending"
      ],
      "metadata": {
        "id": "CG2t_J5QoPBj"
      }
    },
    {
      "cell_type": "code",
      "source": [
        "batting_first.venue.value_counts()"
      ],
      "metadata": {
        "colab": {
          "base_uri": "https://localhost:8080/"
        },
        "id": "KPZr8YXjoIiI",
        "outputId": "70c1e302-3936-47f6-af80-fbb42c17c27b"
      },
      "execution_count": 75,
      "outputs": [
        {
          "output_type": "execute_result",
          "data": {
            "text/plain": [
              "Wankhede Stadium                                        35\n",
              "Feroz Shah Kotla                                        33\n",
              "Eden Gardens                                            32\n",
              "MA Chidambaram Stadium, Chepauk                         30\n",
              "M Chinnaswamy Stadium                                   30\n",
              "Rajiv Gandhi International Stadium, Uppal               23\n",
              "Punjab Cricket Association Stadium, Mohali              15\n",
              "Sawai Mansingh Stadium                                  15\n",
              "Subrata Roy Sahara Stadium                              11\n",
              "Kingsmead                                                9\n",
              "Punjab Cricket Association IS Bindra Stadium, Mohali     7\n",
              "Maharashtra Cricket Association Stadium                  7\n",
              "Dr DY Patil Sports Academy                               7\n",
              "Dr. Y.S. Rajasekhara Reddy ACA-VDCA Cricket Stadium      7\n",
              "Sardar Patel Stadium, Motera                             6\n",
              "Brabourne Stadium                                        6\n",
              "Himachal Pradesh Cricket Association Stadium             5\n",
              "Rajiv Gandhi Intl. Cricket Stadium                       5\n",
              "Barabati Stadium                                         4\n",
              "SuperSport Park                                          4\n",
              "M. A. Chidambaram Stadium                                4\n",
              "Newlands                                                 4\n",
              "New Wanderers Stadium                                    3\n",
              "Nehru Stadium                                            3\n",
              "St George's Park                                         3\n",
              "Saurashtra Cricket Association Stadium                   3\n",
              "M. Chinnaswamy Stadium                                   3\n",
              "Dubai International Cricket Stadium                      3\n",
              "Sheikh Zayed Stadium                                     3\n",
              "IS Bindra Stadium                                        2\n",
              "Sharjah Cricket Stadium                                  2\n",
              "Feroz Shah Kotla Ground                                  2\n",
              "JSCA International Stadium Complex                       2\n",
              "Shaheed Veer Narayan Singh International Stadium         2\n",
              "Vidarbha Cricket Association Stadium, Jamtha             2\n",
              "Buffalo Park                                             2\n",
              "Holkar Cricket Stadium                                   1\n",
              "De Beers Diamond Oval                                    1\n",
              "OUTsurance Oval                                          1\n",
              "Name: venue, dtype: int64"
            ]
          },
          "metadata": {},
          "execution_count": 75
        }
      ]
    },
    {
      "cell_type": "markdown",
      "source": [
        "Wankhede Stadium  has been the best for winning 35 matches by defending and 37 matches for chasing"
      ],
      "metadata": {
        "id": "l-rmCV7nob6c"
      }
    },
    {
      "cell_type": "markdown",
      "source": [
        "#14)Best venue for chasing"
      ],
      "metadata": {
        "id": "Zf-CuJl1ouTZ"
      }
    },
    {
      "cell_type": "code",
      "source": [
        "batting_second.venue.value_counts()"
      ],
      "metadata": {
        "colab": {
          "base_uri": "https://localhost:8080/"
        },
        "id": "ppfJU8gGox68",
        "outputId": "014c7850-e1b2-4a37-b39f-4149bb9e149f"
      },
      "execution_count": 76,
      "outputs": [
        {
          "output_type": "execute_result",
          "data": {
            "text/plain": [
              "Eden Gardens                                            45\n",
              "M Chinnaswamy Stadium                                   40\n",
              "Wankhede Stadium                                        37\n",
              "Feroz Shah Kotla                                        33\n",
              "Sawai Mansingh Stadium                                  32\n",
              "Rajiv Gandhi International Stadium, Uppal               32\n",
              "Punjab Cricket Association Stadium, Mohali              20\n",
              "MA Chidambaram Stadium, Chepauk                         18\n",
              "Maharashtra Cricket Association Stadium                 14\n",
              "Dr DY Patil Sports Academy                              10\n",
              "SuperSport Park                                          8\n",
              "Holkar Cricket Stadium                                   8\n",
              "Punjab Cricket Association IS Bindra Stadium, Mohali     7\n",
              "Kingsmead                                                6\n",
              "Saurashtra Cricket Association Stadium                   6\n",
              "Subrata Roy Sahara Stadium                               6\n",
              "Sardar Patel Stadium, Motera                             5\n",
              "JSCA International Stadium Complex                       5\n",
              "New Wanderers Stadium                                    5\n",
              "IS Bindra Stadium                                        5\n",
              "Brabourne Stadium                                        5\n",
              "M. A. Chidambaram Stadium                                4\n",
              "Sharjah Cricket Stadium                                  4\n",
              "Shaheed Veer Narayan Singh International Stadium         4\n",
              "Dr. Y.S. Rajasekhara Reddy ACA-VDCA Cricket Stadium      4\n",
              "Green Park                                               4\n",
              "Himachal Pradesh Cricket Association Stadium             4\n",
              "Feroz Shah Kotla Ground                                  4\n",
              "Dubai International Cricket Stadium                      4\n",
              "St George's Park                                         4\n",
              "Rajiv Gandhi Intl. Cricket Stadium                       3\n",
              "Barabati Stadium                                         3\n",
              "M. Chinnaswamy Stadium                                   3\n",
              "Sheikh Zayed Stadium                                     3\n",
              "De Beers Diamond Oval                                    2\n",
              "Nehru Stadium                                            2\n",
              "Newlands                                                 2\n",
              "ACA-VDCA Stadium                                         2\n",
              "Vidarbha Cricket Association Stadium, Jamtha             1\n",
              "OUTsurance Oval                                          1\n",
              "Buffalo Park                                             1\n",
              "Name: venue, dtype: int64"
            ]
          },
          "metadata": {},
          "execution_count": 76
        }
      ]
    },
    {
      "cell_type": "markdown",
      "source": [
        "Eden Gardens has been the best venue having about 45 wins for chasing and 32 wins for defending."
      ],
      "metadata": {
        "id": "JQcI_f0po65t"
      }
    },
    {
      "cell_type": "markdown",
      "source": [
        "#15)Result analysis"
      ],
      "metadata": {
        "id": "TyE4a-kU85uY"
      }
    },
    {
      "cell_type": "code",
      "source": [
        "ipl.umpire2.value_counts()"
      ],
      "metadata": {
        "colab": {
          "base_uri": "https://localhost:8080/"
        },
        "id": "Uu3eMQuC89J9",
        "outputId": "b93b49bc-9cc0-46e9-9c85-2dddeea87ffe"
      },
      "execution_count": 14,
      "outputs": [
        {
          "output_type": "execute_result",
          "data": {
            "text/plain": [
              "C Shamshuddin       57\n",
              "S Ravi              57\n",
              "SJA Taufel          54\n",
              "RJ Tucker           38\n",
              "CK Nandan           36\n",
              "                    ..\n",
              "Kumar Dharmasena     1\n",
              "SD Fry               1\n",
              "SJ Davis             1\n",
              "Subroto Das          1\n",
              "Ian Gould            1\n",
              "Name: umpire2, Length: 65, dtype: int64"
            ]
          },
          "metadata": {},
          "execution_count": 14
        }
      ]
    },
    {
      "cell_type": "markdown",
      "source": [
        "C Shamshuddin and S Ravi are those who attended 57 matches across all the seasons "
      ],
      "metadata": {
        "id": "CEHbcMG0-f2l"
      }
    },
    {
      "cell_type": "markdown",
      "source": [
        "#16)Season and winners"
      ],
      "metadata": {
        "id": "amS2JrLa--f-"
      }
    },
    {
      "cell_type": "code",
      "source": [
        "df1=ipl.groupby('winner')['season'].value_counts().head(30)\n",
        "df1"
      ],
      "metadata": {
        "colab": {
          "base_uri": "https://localhost:8080/"
        },
        "id": "8XjPn4q__IKg",
        "outputId": "07acc7b3-b24c-42a5-d862-0b63419aaee1"
      },
      "execution_count": 74,
      "outputs": [
        {
          "output_type": "execute_result",
          "data": {
            "text/plain": [
              "winner               season\n",
              "Chennai Super Kings  2013      12\n",
              "                     2011      11\n",
              "                     2018      11\n",
              "                     2012      10\n",
              "                     2014      10\n",
              "                     2015      10\n",
              "                     2019      10\n",
              "                     2008       9\n",
              "                     2010       9\n",
              "                     2009       8\n",
              "Deccan Chargers      2009       9\n",
              "                     2010       8\n",
              "                     2011       6\n",
              "                     2012       4\n",
              "                     2008       2\n",
              "Delhi Capitals       2019      10\n",
              "Delhi Daredevils     2012      11\n",
              "                     2009      10\n",
              "                     2008       7\n",
              "                     2010       7\n",
              "                     2016       7\n",
              "                     2017       6\n",
              "                     2015       5\n",
              "                     2018       5\n",
              "                     2011       4\n",
              "                     2013       3\n",
              "                     2014       2\n",
              "Gujarat Lions        2016       9\n",
              "                     2017       4\n",
              "Kings XI Punjab      2014      12\n",
              "Name: season, dtype: int64"
            ]
          },
          "metadata": {},
          "execution_count": 74
        }
      ]
    },
    {
      "cell_type": "markdown",
      "source": [
        "chennai super kings has the highest win in 2013,then 2011-2019 it has a consistent win of matches around 10 and above"
      ],
      "metadata": {
        "id": "WUJPwXz1NBIN"
      }
    },
    {
      "cell_type": "markdown",
      "source": [
        "#17)City and season"
      ],
      "metadata": {
        "id": "rp8jkLIICv56"
      }
    },
    {
      "cell_type": "code",
      "source": [
        "df2=ipl.groupby('city')['season'].value_counts().head(20)\n",
        "df2"
      ],
      "metadata": {
        "colab": {
          "base_uri": "https://localhost:8080/"
        },
        "id": "oPu5I9u4Cc9Y",
        "outputId": "8cec4ff2-4c1c-4e85-ed94-840b00c766bb"
      },
      "execution_count": 72,
      "outputs": [
        {
          "output_type": "execute_result",
          "data": {
            "text/plain": [
              "city          season\n",
              "Abu Dhabi     2014       7\n",
              "Ahmedabad     2010       4\n",
              "              2014       4\n",
              "              2015       4\n",
              "Bangalore     2016       9\n",
              "              2012       8\n",
              "              2013       8\n",
              "              2017       8\n",
              "              2008       7\n",
              "              2010       7\n",
              "              2015       7\n",
              "              2011       6\n",
              "              2014       6\n",
              "Bengaluru     2018       7\n",
              "              2019       7\n",
              "Bloemfontein  2009       2\n",
              "Cape Town     2009       7\n",
              "Centurion     2009      12\n",
              "Chandigarh    2008       7\n",
              "              2016       7\n",
              "Name: season, dtype: int64"
            ]
          },
          "metadata": {},
          "execution_count": 72
        }
      ]
    },
    {
      "cell_type": "markdown",
      "source": [
        "Bangalore has the most matches played, mainly 2018 and 2019 it has maximum matches taken place nearly 7 matches.\n",
        "Centurion has mostly all the matches happened in the year 2009."
      ],
      "metadata": {
        "id": "IenYqjF3OFpW"
      }
    },
    {
      "cell_type": "markdown",
      "source": [
        "#18)venue and city"
      ],
      "metadata": {
        "id": "pBPUgVUKC9lp"
      }
    },
    {
      "cell_type": "code",
      "source": [
        "df3=ipl.groupby('city')['venue'].value_counts().head(20)\n",
        "df3"
      ],
      "metadata": {
        "colab": {
          "base_uri": "https://localhost:8080/"
        },
        "id": "JK99NZm1B1_1",
        "outputId": "a474b503-0d7a-4e99-fd77-17fdcb1724f5"
      },
      "execution_count": 75,
      "outputs": [
        {
          "output_type": "execute_result",
          "data": {
            "text/plain": [
              "city          venue                                               \n",
              "Abu Dhabi     Sheikh Zayed Stadium                                     7\n",
              "Ahmedabad     Sardar Patel Stadium, Motera                            12\n",
              "Bangalore     M Chinnaswamy Stadium                                   66\n",
              "Bengaluru     M Chinnaswamy Stadium                                    7\n",
              "              M. Chinnaswamy Stadium                                   7\n",
              "Bloemfontein  OUTsurance Oval                                          2\n",
              "Cape Town     Newlands                                                 7\n",
              "Centurion     SuperSport Park                                         12\n",
              "Chandigarh    Punjab Cricket Association Stadium, Mohali              35\n",
              "              Punjab Cricket Association IS Bindra Stadium, Mohali    11\n",
              "Chennai       MA Chidambaram Stadium, Chepauk                         49\n",
              "              M. A. Chidambaram Stadium                                8\n",
              "Cuttack       Barabati Stadium                                         7\n",
              "Delhi         Feroz Shah Kotla                                        67\n",
              "              Feroz Shah Kotla Ground                                  7\n",
              "Dharamsala    Himachal Pradesh Cricket Association Stadium             9\n",
              "Durban        Kingsmead                                               15\n",
              "East London   Buffalo Park                                             3\n",
              "Hyderabad     Rajiv Gandhi International Stadium, Uppal               56\n",
              "              Rajiv Gandhi Intl. Cricket Stadium                       8\n",
              "Name: venue, dtype: int64"
            ]
          },
          "metadata": {},
          "execution_count": 75
        }
      ]
    },
    {
      "cell_type": "markdown",
      "source": [
        "Feroz Shah Kotla and M Chinnaswamy Stadium are the highest matches taken place nearly 66 "
      ],
      "metadata": {
        "id": "z75YXzmtPXYu"
      }
    },
    {
      "cell_type": "markdown",
      "source": [
        "#17)winner and player of match"
      ],
      "metadata": {
        "id": "U7ZabJ9IDRax"
      }
    },
    {
      "cell_type": "code",
      "source": [
        "df4=ipl.groupby('winner')['player_of_match'].value_counts().head(30)\n",
        "df4"
      ],
      "metadata": {
        "colab": {
          "base_uri": "https://localhost:8080/"
        },
        "id": "ofS1LogkDyh7",
        "outputId": "dd276e2c-6586-4f8b-f313-273c5219f682"
      },
      "execution_count": 45,
      "outputs": [
        {
          "output_type": "execute_result",
          "data": {
            "text/plain": [
              "winner               player_of_match\n",
              "Chennai Super Kings  MS Dhoni           15\n",
              "                     SK Raina           12\n",
              "                     MEK Hussey         10\n",
              "                     RA Jadeja           8\n",
              "                     M Vijay             5\n",
              "                     SR Watson           5\n",
              "                     F du Plessis        4\n",
              "                     ML Hayden           4\n",
              "                     A Nehra             3\n",
              "                     DR Smith            3\n",
              "                     AT Rayudu           2\n",
              "                     BB McCullum         2\n",
              "                     BW Hilfenhaus       2\n",
              "                     DE Bollinger        2\n",
              "                     DJ Bravo            2\n",
              "                     Harbhajan Singh     2\n",
              "                     M Muralitharan      2\n",
              "                     M Ntini             2\n",
              "                     DL Chahar           1\n",
              "                     Imran Tahir         1\n",
              "                     JA Morkel           1\n",
              "                     JDP Oram            1\n",
              "                     KMDN Kulasekara     1\n",
              "                     L Balaji            1\n",
              "                     L Ngidi             1\n",
              "                     MM Sharma           1\n",
              "                     P Negi              1\n",
              "                     R Ashwin            1\n",
              "                     S Anirudha          1\n",
              "                     S Badrinath         1\n",
              "Name: player_of_match, dtype: int64"
            ]
          },
          "metadata": {},
          "execution_count": 45
        }
      ]
    },
    {
      "cell_type": "markdown",
      "source": [
        "This analysis mainly focused Chennai super kings where MS Dhoni obtained the highest man of match(15 matches) followed by SK Raina (12 matches)"
      ],
      "metadata": {
        "id": "-Hpntw7tPuRM"
      }
    },
    {
      "cell_type": "markdown",
      "source": [
        "#18)winner and win by runs"
      ],
      "metadata": {
        "id": "UBp9aeMWEKNw"
      }
    },
    {
      "cell_type": "code",
      "source": [
        "df4=ipl.groupby('winner')['win_by_runs'].value_counts().head(20)\n",
        "df4"
      ],
      "metadata": {
        "colab": {
          "base_uri": "https://localhost:8080/"
        },
        "id": "s47okg9nEO1H",
        "outputId": "3194169f-b017-40dd-b654-b2034e0e1ea7"
      },
      "execution_count": 78,
      "outputs": [
        {
          "output_type": "execute_result",
          "data": {
            "text/plain": [
              "winner               win_by_runs\n",
              "Chennai Super Kings  0              48\n",
              "                     13              3\n",
              "                     18              3\n",
              "                     24              3\n",
              "                     38              3\n",
              "                     2               2\n",
              "                     12              2\n",
              "                     22              2\n",
              "                     33              2\n",
              "                     86              2\n",
              "                     1               1\n",
              "                     3               1\n",
              "                     4               1\n",
              "                     6               1\n",
              "                     7               1\n",
              "                     8               1\n",
              "                     10              1\n",
              "                     11              1\n",
              "                     14              1\n",
              "                     15              1\n",
              "Name: win_by_runs, dtype: int64"
            ]
          },
          "metadata": {},
          "execution_count": 78
        }
      ]
    },
    {
      "cell_type": "markdown",
      "source": [
        "This analysis mainly focus on chennai super kings.The run difference is 0 which takes place 48 times.The highest win by runs obtained is 86 which happened 2 times"
      ],
      "metadata": {
        "id": "07_McR06QNqG"
      }
    },
    {
      "cell_type": "markdown",
      "source": [
        "#19)winner and win by wickets"
      ],
      "metadata": {
        "id": "x-Zs8M3VK5i-"
      }
    },
    {
      "cell_type": "code",
      "source": [
        "df5=ipl.groupby('winner')['win_by_wickets'].value_counts().head(20)\n",
        "df5"
      ],
      "metadata": {
        "colab": {
          "base_uri": "https://localhost:8080/"
        },
        "id": "f7DBHvPuK9bo",
        "outputId": "9e057011-f4d4-469f-a21f-7cabdfbc123f"
      },
      "execution_count": 58,
      "outputs": [
        {
          "output_type": "execute_result",
          "data": {
            "text/plain": [
              "winner               win_by_wickets\n",
              "Chennai Super Kings  0                 52\n",
              "                     5                 12\n",
              "                     7                  9\n",
              "                     6                  7\n",
              "                     4                  6\n",
              "                     8                  6\n",
              "                     9                  4\n",
              "                     1                  1\n",
              "                     2                  1\n",
              "                     3                  1\n",
              "                     10                 1\n",
              "Deccan Chargers      0                 18\n",
              "                     6                  5\n",
              "                     5                  2\n",
              "                     7                  2\n",
              "                     8                  1\n",
              "                     10                 1\n",
              "Delhi Capitals       0                  4\n",
              "                     5                  2\n",
              "                     2                  1\n",
              "Name: win_by_wickets, dtype: int64"
            ]
          },
          "metadata": {},
          "execution_count": 58
        }
      ]
    },
    {
      "cell_type": "markdown",
      "source": [
        "This analysis mainly focus on chennai super kings.The win by wickets is 0 which happens 52 times.The highest win by wickets is 10 which happens one time."
      ],
      "metadata": {
        "id": "GWPv-UYIRX6h"
      }
    },
    {
      "cell_type": "markdown",
      "source": [
        "#20)season and win by runs"
      ],
      "metadata": {
        "id": "_xowmaRhMP0K"
      }
    },
    {
      "cell_type": "code",
      "source": [
        "ipl.groupby('season')['win_by_runs'].value_counts().tail(30)"
      ],
      "metadata": {
        "colab": {
          "base_uri": "https://localhost:8080/"
        },
        "id": "YvYZzeAyMVCy",
        "outputId": "a4fcf645-0c33-46d9-dd91-93f80e34ce2e"
      },
      "execution_count": 87,
      "outputs": [
        {
          "output_type": "execute_result",
          "data": {
            "text/plain": [
              "season  win_by_runs\n",
              "2018    5               1\n",
              "        10              1\n",
              "        19              1\n",
              "        25              1\n",
              "        30              1\n",
              "        34              1\n",
              "        46              1\n",
              "        55              1\n",
              "        64              1\n",
              "        71              1\n",
              "        102             1\n",
              "2019    0              38\n",
              "        1               2\n",
              "        14              2\n",
              "        37              2\n",
              "        40              2\n",
              "        6               1\n",
              "        8               1\n",
              "        10              1\n",
              "        12              1\n",
              "        16              1\n",
              "        17              1\n",
              "        22              1\n",
              "        28              1\n",
              "        34              1\n",
              "        39              1\n",
              "        45              1\n",
              "        46              1\n",
              "        80              1\n",
              "        118             1\n",
              "Name: win_by_runs, dtype: int64"
            ]
          },
          "metadata": {},
          "execution_count": 87
        }
      ]
    },
    {
      "cell_type": "markdown",
      "source": [
        "#21)season and win by wickets"
      ],
      "metadata": {
        "id": "jRasqNBLMb8S"
      }
    },
    {
      "cell_type": "code",
      "source": [
        "ipl.groupby('season')['win_by_wickets'].value_counts().tail(30)"
      ],
      "metadata": {
        "colab": {
          "base_uri": "https://localhost:8080/"
        },
        "id": "4okWO2j6MpLz",
        "outputId": "13982ed1-4a14-452d-c716-d945f4387482"
      },
      "execution_count": 89,
      "outputs": [
        {
          "output_type": "execute_result",
          "data": {
            "text/plain": [
              "season  win_by_wickets\n",
              "2016    10                 1\n",
              "2017    0                 27\n",
              "        7                  8\n",
              "        6                  7\n",
              "        4                  6\n",
              "        8                  4\n",
              "        5                  2\n",
              "        9                  2\n",
              "        10                 2\n",
              "        2                  1\n",
              "2018    0                 28\n",
              "        6                  8\n",
              "        5                  6\n",
              "        7                  4\n",
              "        4                  3\n",
              "        8                  3\n",
              "        9                  3\n",
              "        1                  2\n",
              "        2                  1\n",
              "        3                  1\n",
              "        10                 1\n",
              "2019    0                 25\n",
              "        6                  9\n",
              "        5                  8\n",
              "        7                  6\n",
              "        4                  4\n",
              "        8                  3\n",
              "        3                  2\n",
              "        9                  2\n",
              "        2                  1\n",
              "Name: win_by_wickets, dtype: int64"
            ]
          },
          "metadata": {},
          "execution_count": 89
        }
      ]
    },
    {
      "cell_type": "markdown",
      "source": [
        "This data mainly focus on 2019, 25 matches has zero wickets.\n",
        "1 match has secured 9 wickets."
      ],
      "metadata": {
        "id": "mk6NYo0DSaJa"
      }
    }
  ],
  "metadata": {
    "colab": {
      "collapsed_sections": [],
      "name": "Welcome To Colaboratory",
      "provenance": []
    },
    "kernelspec": {
      "display_name": "Python 3",
      "name": "python3"
    }
  },
  "nbformat": 4,
  "nbformat_minor": 0
}